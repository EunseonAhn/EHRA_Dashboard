{
 "cells": [
  {
   "cell_type": "markdown",
   "metadata": {},
   "source": [
    "<h2> EHRA Dashboard </h2>"
   ]
  },
  {
   "cell_type": "markdown",
   "metadata": {},
   "source": [
    "First we have to generate simulated data to fill the scattermap. We'll store it in the dataframe <code>airQual</code>"
   ]
  },
  {
   "cell_type": "code",
   "execution_count": 1,
   "metadata": {},
   "outputs": [],
   "source": [
    "## Use code from Annie\n",
    "\n",
    "# Sanity check for valid data structure \n",
    "# airQual.head()"
   ]
  },
  {
   "cell_type": "markdown",
   "metadata": {},
   "source": [
    "Before getting the plot to show, need to sign up for mapbox account to get mapbox token: https://account.mapbox.com/"
   ]
  },
  {
   "cell_type": "code",
   "execution_count": 8,
   "metadata": {},
   "outputs": [
    {
     "ename": "PermissionError",
     "evalue": "[Errno 1] Operation not permitted",
     "output_type": "error",
     "traceback": [
      "\u001b[0;31m---------------------------------------------------------------------------\u001b[0m",
      "\u001b[0;31mPermissionError\u001b[0m                           Traceback (most recent call last)",
      "Input \u001b[0;32mIn [8]\u001b[0m, in \u001b[0;36m<cell line: 1>\u001b[0;34m()\u001b[0m\n\u001b[0;32m----> 1\u001b[0m \u001b[38;5;28;01mimport\u001b[39;00m \u001b[38;5;21;01mplotly\u001b[39;00m\u001b[38;5;21;01m.\u001b[39;00m\u001b[38;5;21;01mexpress\u001b[39;00m \u001b[38;5;28;01mas\u001b[39;00m \u001b[38;5;21;01mpx\u001b[39;00m\n\u001b[1;32m      2\u001b[0m px\u001b[38;5;241m.\u001b[39mset_mapbox_access_token(\u001b[38;5;124m\"\u001b[39m\u001b[38;5;124mpk.eyJ1IjoiemlxaW50aWFuIiwiYSI6ImNsMWdzb2JkNjFlZm4zcG54NWhzaWVtdXkifQ.Bewl0ISItyYwAGSAFPOQRA\u001b[39m\u001b[38;5;124m\"\u001b[39m)\n\u001b[1;32m      3\u001b[0m df \u001b[38;5;241m=\u001b[39m px\u001b[38;5;241m.\u001b[39mdata\u001b[38;5;241m.\u001b[39mcarshare()\n",
      "File \u001b[0;32m<frozen importlib._bootstrap>:991\u001b[0m, in \u001b[0;36m_find_and_load\u001b[0;34m(name, import_)\u001b[0m\n",
      "File \u001b[0;32m<frozen importlib._bootstrap>:971\u001b[0m, in \u001b[0;36m_find_and_load_unlocked\u001b[0;34m(name, import_)\u001b[0m\n",
      "File \u001b[0;32m<frozen importlib._bootstrap>:914\u001b[0m, in \u001b[0;36m_find_spec\u001b[0;34m(name, path, target)\u001b[0m\n",
      "File \u001b[0;32m<frozen importlib._bootstrap_external>:1407\u001b[0m, in \u001b[0;36mfind_spec\u001b[0;34m(cls, fullname, path, target)\u001b[0m\n",
      "File \u001b[0;32m<frozen importlib._bootstrap_external>:1376\u001b[0m, in \u001b[0;36m_get_spec\u001b[0;34m(cls, fullname, path, target)\u001b[0m\n",
      "File \u001b[0;32m<frozen importlib._bootstrap_external>:1340\u001b[0m, in \u001b[0;36m_path_importer_cache\u001b[0;34m(cls, path)\u001b[0m\n",
      "\u001b[0;31mPermissionError\u001b[0m: [Errno 1] Operation not permitted"
     ]
    }
   ],
   "source": [
    "import plotly.express as px\n",
    "px.set_mapbox_access_token(\"pk.eyJ1IjoiemlxaW50aWFuIiwiYSI6ImNsMWdzb2JkNjFlZm4zcG54NWhzaWVtdXkifQ.Bewl0ISItyYwAGSAFPOQRA\")\n",
    "df = px.data.carshare()\n",
    "fig = px.scatter_mapbox(df, lat=\"centroid_lat\", lon=\"centroid_lon\", color=\"peak_hour\", size=\"car_hours\",\n",
    "                  color_continuous_scale=px.colors.cyclical.IceFire, size_max=15, zoom=10,  width=700, height=800)\n",
    "fig.show()"
   ]
  },
  {
   "cell_type": "markdown",
   "metadata": {},
   "source": [
    "If we wanted to just export this interactive plotly figure at this point as an html file, we can simply use the following snippet of code:"
   ]
  },
  {
   "cell_type": "code",
   "execution_count": 3,
   "metadata": {},
   "outputs": [],
   "source": [
    "## fig.write_html(\"testing.html\")"
   ]
  },
  {
   "cell_type": "markdown",
   "metadata": {},
   "source": [
    "<h3> Using Dash </h3>\n",
    "\n",
    "Here we're relying on JupyterDash to view the dashboard within our Jupyter notebook. Here I'm only implementing the layout without any of the callback functionality so that we have framework to build the visualization.\n",
    "\n",
    "We'll still need to figure out a way to make the map full size and figure out what kind of filtering functionality we might want. Later we'll need focus on customizing the actual visuals."
   ]
  },
  {
   "cell_type": "code",
   "execution_count": 80,
   "metadata": {},
   "outputs": [
    {
     "name": "stdout",
     "output_type": "stream",
     "text": [
      "Dash app running on http://127.0.0.1:8050/\n"
     ]
    },
    {
     "name": "stderr",
     "output_type": "stream",
     "text": [
      "/Users/branglab/Desktop/Misc/EunSeon/EHRA/env/lib/python3.9/site-packages/jupyter_dash/jupyter_app.py:139: UserWarning:\n",
      "\n",
      "The 'environ['werkzeug.server.shutdown']' function is deprecated and will be removed in Werkzeug 2.1.\n",
      "\n"
     ]
    }
   ],
   "source": [
    "from jupyter_dash import JupyterDash\n",
    "from dash import Dash, html, dcc, Input, Output\n",
    "import dash_bootstrap_components as dbc\n",
    "import pandas as pd\n",
    "import os\n",
    "import base64\n",
    "\n",
    "app = JupyterDash(external_stylesheets=[dbc.themes.BOOTSTRAP])\n",
    "\n",
    "logo = os.getcwd() + '/assets/EHRA_logo.jpeg'\n",
    "encoded_image = base64.b64encode(open(logo, 'rb').read())\n",
    "\n",
    "SIDEBAR_STYLE = {\n",
    "    \"position\": \"fixed\",\n",
    "    \"top\": 0,\n",
    "    \"left\": 0,\n",
    "    \"bottom\": 0,\n",
    "    \"width\": \"16rem\",\n",
    "    \"padding\": \"1rem 1rem\",\n",
    "    \"background-color\": \"#f8f9fa\",\n",
    "}\n",
    "\n",
    "FIGURE_STYLE = {\n",
    "    \"position\": \"fixed\",\n",
    "    \"top\": 0,\n",
    "    \"left\": 0,\n",
    "    \"bottom\": 0,\n",
    "    \"margin-left\": \"16rem\",\n",
    "    \"margin-right\": \"1rem\"\n",
    "}\n",
    "\n",
    "NEWS_STYLE = {\n",
    "    \"position\": \"fixed\",\n",
    "    \"top\": \"0rem\",\n",
    "    \"padding-top\": \"3rem\",\n",
    "    \"padding-left\": \"1rem\",\n",
    "    \"left\": 0,\n",
    "    \"bottom\": 0,\n",
    "    \"margin-left\": \"61rem\",\n",
    "    \"margin-right\": \"1rem\",\n",
    "    \"width\": \"40rem\",\n",
    "    \"background-color\": \"#f8f9fa\",\n",
    "}\n",
    "\n",
    "sidebar = html.Div(\n",
    "    [\n",
    "        html.Img(src='data:image/png;base64,{}'.format(encoded_image.decode()), style={'width': '220px'}),\n",
    "        html.H4('Pollutant'),\n",
    "        dcc.RadioItems(id = 'radio-item-1',\n",
    "                        options = [dict(label = 'NO2', value = 'A'),\n",
    "                                    dict(label = 'VOC', value = 'B'),\n",
    "                                    dict(label = 'pm1', value = 'C'),\n",
    "                                    dict(label = 'pm10', value = 'D'),\n",
    "                                    dict(label = 'pm25', value = 'E')],\n",
    "                        value = 'A',\n",
    "                        labelStyle={'display': 'block'}),\n",
    "\n",
    "        html.P(['Abbreviations', html.Br(),\\\n",
    "            'PM: Particulate Matter', html.Br(),\\\n",
    "            'NO2: Nitrogen Dioxide', html.Br(),\\\n",
    "                'VOC: Volatine Organic Compound', html.Br(),\\\n",
    "                    'PM10: PM<10um diameter', html.Br(),\\\n",
    "                        'PM25: PM<2.5um diameter']),\n",
    "        \n",
    "        html.H4(['Select hotspot:']),\n",
    "\n",
    "        dcc.Dropdown(\n",
    "            ['Elementary School', 'Factory', 'Middle School', 'Park'],\n",
    "            'Select hotspots',\n",
    "            id='hotspot-dropdown'\n",
    "        ),\n",
    "        html.P('These hotspots were selected based on the air quality pollutant data released to the government.'),\n",
    "        dbc.Button(\"Upload my Flow Monitor Data\", color=\"primary\", className=\"me-1\", \n",
    "        href='https://en.wikipedia.org/wiki/Main_Page', target='_blank'),\n",
    "    ],\n",
    "    style=SIDEBAR_STYLE,\n",
    ")\n",
    "\n",
    "content = html.Div(dcc.Graph(id = 'main-graph', figure = fig), style = FIGURE_STYLE)\n",
    "news = html.Div(html.H4('Related News & Information'), style = NEWS_STYLE)\n",
    "app.layout = html.Div([sidebar, content, news])\n",
    "\n",
    "@app.callback(\n",
    "    Output('main-graph', 'figure'),\n",
    "    Input('radio-item-1', 'value'))\n",
    "def update_figure(color_scheme):\n",
    "    palette = {'A': px.colors.cyclical.HSV,\n",
    "             'B': px.colors.cyclical.Phase,\n",
    "             'C': px.colors.cyclical.Twilight,\n",
    "             'D':  px.colors.cyclical.mrybm,\n",
    "             'E': px.colors.cyclical.mygbm}\n",
    "    fig = px.scatter_mapbox(df, lat=\"centroid_lat\", lon=\"centroid_lon\",     color=\"peak_hour\", size=\"car_hours\",\n",
    "                  color_continuous_scale=palette[color_scheme], size_max=15, zoom=10,  width=700, height=800)\n",
    "\n",
    "    fig.update_layout(coloraxis_colorbar=dict(\n",
    "    title=\"NO2\",\n",
    "    ))\n",
    "    return fig\n",
    "\n",
    "\n",
    "## Deploy app -------------------------------------------------------------\n",
    "del app.config._read_only[\"requests_pathname_prefix\"]\n",
    "app.run_server(debug=True)\n"
   ]
  },
  {
   "cell_type": "markdown",
   "metadata": {},
   "source": [
    "Deleting app configuration is a weird fix for JupyterDash update that makes some parts of it no longer completely compatible with Dash. We Run with  <code>  mode = \"inline\" </code> so we can view the dashboard within the Jupyter notebook itself."
   ]
  },
  {
   "cell_type": "code",
   "execution_count": 82,
   "metadata": {},
   "outputs": [],
   "source": [
    "#del app.config._read_only[\"requests_pathname_prefix\"]\n",
    "#app.run_server(mode=\"inline\")\n",
    "\n",
    "# Run following code in the terminal to generate requirements.txt\n",
    "#jupyter nbconvert --output-dir=\"./reqs\" --to script EHRA_Dashboard.ipynb\n",
    "#cd reqs\n",
    "#pipreqs"
   ]
  },
  {
   "cell_type": "code",
   "execution_count": null,
   "metadata": {},
   "outputs": [],
   "source": []
  }
 ],
 "metadata": {
  "interpreter": {
   "hash": "7ea124d6509c82d273728337295af56835809cfb8d3edfb3e806559a2c623f23"
  },
  "kernelspec": {
   "display_name": "Python 3 (ipykernel)",
   "language": "python",
   "name": "python3"
  },
  "language_info": {
   "codemirror_mode": {
    "name": "ipython",
    "version": 3
   },
   "file_extension": ".py",
   "mimetype": "text/x-python",
   "name": "python",
   "nbconvert_exporter": "python",
   "pygments_lexer": "ipython3",
   "version": "3.8.12"
  }
 },
 "nbformat": 4,
 "nbformat_minor": 4
}
