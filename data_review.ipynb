{
 "cells": [
  {
   "cell_type": "code",
   "execution_count": 105,
   "id": "e5f2c41a-3470-449a-abe8-741a84e4e1a4",
   "metadata": {},
   "outputs": [],
   "source": [
    "import numpy as np\n",
    "import pandas as pd\n",
    "import random"
   ]
  },
  {
   "cell_type": "code",
   "execution_count": 6,
   "id": "44550c82-68be-4ba7-bfba-0fdf622cbdb2",
   "metadata": {},
   "outputs": [
    {
     "data": {
      "text/html": [
       "<div>\n",
       "<style scoped>\n",
       "    .dataframe tbody tr th:only-of-type {\n",
       "        vertical-align: middle;\n",
       "    }\n",
       "\n",
       "    .dataframe tbody tr th {\n",
       "        vertical-align: top;\n",
       "    }\n",
       "\n",
       "    .dataframe thead th {\n",
       "        text-align: right;\n",
       "    }\n",
       "</style>\n",
       "<table border=\"1\" class=\"dataframe\">\n",
       "  <thead>\n",
       "    <tr style=\"text-align: right;\">\n",
       "      <th></th>\n",
       "      <th>Unnamed: 0</th>\n",
       "      <th>date</th>\n",
       "      <th>Monitor ID</th>\n",
       "      <th>NO2 (ppb)</th>\n",
       "      <th>NO2 (Plume AQI)</th>\n",
       "      <th>VOC (ppb)</th>\n",
       "      <th>VOC (Plume AQI)</th>\n",
       "      <th>pm 1 (ug/m3)</th>\n",
       "      <th>pm 1 (Plume AQI)</th>\n",
       "      <th>pm 10 (ug/m3)</th>\n",
       "      <th>pm 10 (Plume AQI)</th>\n",
       "      <th>pm25 (ug/m3)</th>\n",
       "      <th>pm 25 (Plume AQI)</th>\n",
       "      <th>latitude</th>\n",
       "      <th>longitude</th>\n",
       "    </tr>\n",
       "  </thead>\n",
       "  <tbody>\n",
       "    <tr>\n",
       "      <th>0</th>\n",
       "      <td>0</td>\n",
       "      <td>2022-01-01 00:00:00</td>\n",
       "      <td>13350</td>\n",
       "      <td>54</td>\n",
       "      <td>19</td>\n",
       "      <td>172</td>\n",
       "      <td>15</td>\n",
       "      <td>4</td>\n",
       "      <td>11</td>\n",
       "      <td>33</td>\n",
       "      <td>47</td>\n",
       "      <td>20</td>\n",
       "      <td>30</td>\n",
       "      <td>175.785777</td>\n",
       "      <td>133.538701</td>\n",
       "    </tr>\n",
       "    <tr>\n",
       "      <th>1</th>\n",
       "      <td>1</td>\n",
       "      <td>2022-01-01 01:00:00</td>\n",
       "      <td>13450</td>\n",
       "      <td>48</td>\n",
       "      <td>11</td>\n",
       "      <td>188</td>\n",
       "      <td>12</td>\n",
       "      <td>3</td>\n",
       "      <td>19</td>\n",
       "      <td>33</td>\n",
       "      <td>45</td>\n",
       "      <td>17</td>\n",
       "      <td>32</td>\n",
       "      <td>105.780560</td>\n",
       "      <td>159.955485</td>\n",
       "    </tr>\n",
       "    <tr>\n",
       "      <th>2</th>\n",
       "      <td>2</td>\n",
       "      <td>2022-01-01 02:00:00</td>\n",
       "      <td>13550</td>\n",
       "      <td>55</td>\n",
       "      <td>14</td>\n",
       "      <td>182</td>\n",
       "      <td>12</td>\n",
       "      <td>5</td>\n",
       "      <td>12</td>\n",
       "      <td>33</td>\n",
       "      <td>37</td>\n",
       "      <td>13</td>\n",
       "      <td>26</td>\n",
       "      <td>51.411645</td>\n",
       "      <td>116.602660</td>\n",
       "    </tr>\n",
       "    <tr>\n",
       "      <th>3</th>\n",
       "      <td>3</td>\n",
       "      <td>2022-01-01 03:00:00</td>\n",
       "      <td>13730</td>\n",
       "      <td>56</td>\n",
       "      <td>12</td>\n",
       "      <td>183</td>\n",
       "      <td>14</td>\n",
       "      <td>6</td>\n",
       "      <td>20</td>\n",
       "      <td>42</td>\n",
       "      <td>32</td>\n",
       "      <td>16</td>\n",
       "      <td>35</td>\n",
       "      <td>40.450791</td>\n",
       "      <td>121.607347</td>\n",
       "    </tr>\n",
       "    <tr>\n",
       "      <th>4</th>\n",
       "      <td>4</td>\n",
       "      <td>2022-01-01 04:00:00</td>\n",
       "      <td>13210</td>\n",
       "      <td>58</td>\n",
       "      <td>16</td>\n",
       "      <td>185</td>\n",
       "      <td>15</td>\n",
       "      <td>9</td>\n",
       "      <td>14</td>\n",
       "      <td>33</td>\n",
       "      <td>43</td>\n",
       "      <td>1</td>\n",
       "      <td>23</td>\n",
       "      <td>68.174186</td>\n",
       "      <td>17.898912</td>\n",
       "    </tr>\n",
       "  </tbody>\n",
       "</table>\n",
       "</div>"
      ],
      "text/plain": [
       "   Unnamed: 0                 date  Monitor ID  NO2 (ppb)  NO2 (Plume AQI)  \\\n",
       "0           0  2022-01-01 00:00:00       13350         54               19   \n",
       "1           1  2022-01-01 01:00:00       13450         48               11   \n",
       "2           2  2022-01-01 02:00:00       13550         55               14   \n",
       "3           3  2022-01-01 03:00:00       13730         56               12   \n",
       "4           4  2022-01-01 04:00:00       13210         58               16   \n",
       "\n",
       "   VOC (ppb)  VOC (Plume AQI)  pm 1 (ug/m3)  pm 1 (Plume AQI)  pm 10 (ug/m3)  \\\n",
       "0        172               15             4                11             33   \n",
       "1        188               12             3                19             33   \n",
       "2        182               12             5                12             33   \n",
       "3        183               14             6                20             42   \n",
       "4        185               15             9                14             33   \n",
       "\n",
       "   pm 10 (Plume AQI)  pm25 (ug/m3)  pm 25 (Plume AQI)    latitude   longitude  \n",
       "0                 47            20                 30  175.785777  133.538701  \n",
       "1                 45            17                 32  105.780560  159.955485  \n",
       "2                 37            13                 26   51.411645  116.602660  \n",
       "3                 32            16                 35   40.450791  121.607347  \n",
       "4                 43             1                 23   68.174186   17.898912  "
      ]
     },
     "execution_count": 6,
     "metadata": {},
     "output_type": "execute_result"
    }
   ],
   "source": [
    "sim = pd.read_excel('Simulation/simulation.xlsx') \n",
    "sim.head()"
   ]
  },
  {
   "cell_type": "code",
   "execution_count": 10,
   "id": "1b1acef1-1aa8-422b-947f-e3f1108e3b29",
   "metadata": {},
   "outputs": [
    {
     "data": {
      "text/plain": [
       "pandas.core.frame.DataFrame"
      ]
     },
     "execution_count": 10,
     "metadata": {},
     "output_type": "execute_result"
    }
   ],
   "source": [
    "type(sim)"
   ]
  },
  {
   "cell_type": "code",
   "execution_count": 13,
   "id": "3723a678-05a9-4a95-b887-73d776b1728c",
   "metadata": {},
   "outputs": [],
   "source": [
    "sim = sim.iloc[: , 1:]"
   ]
  },
  {
   "cell_type": "code",
   "execution_count": 22,
   "id": "4a6483f5-d184-4b1a-84f2-0b4fc68cf2ae",
   "metadata": {},
   "outputs": [],
   "source": [
    "# sim.describe()"
   ]
  },
  {
   "cell_type": "code",
   "execution_count": 16,
   "id": "a97f29ee-e2d0-470b-bd27-8b470d618971",
   "metadata": {},
   "outputs": [
    {
     "data": {
      "text/plain": [
       "date                 5000\n",
       "Monitor ID            101\n",
       "NO2 (ppb)              23\n",
       "NO2 (Plume AQI)        42\n",
       "VOC (ppb)              37\n",
       "VOC (Plume AQI)         8\n",
       "pm 1 (ug/m3)           15\n",
       "pm 1 (Plume AQI)       42\n",
       "pm 10 (ug/m3)          43\n",
       "pm 10 (Plume AQI)      28\n",
       "pm25 (ug/m3)           40\n",
       "pm 25 (Plume AQI)      43\n",
       "latitude             5000\n",
       "longitude            5000\n",
       "dtype: int64"
      ]
     },
     "execution_count": 16,
     "metadata": {},
     "output_type": "execute_result"
    }
   ],
   "source": [
    "sim.nunique()"
   ]
  },
  {
   "cell_type": "code",
   "execution_count": null,
   "id": "d189a5a5-2f5e-433c-b17a-1d0493fa8c5b",
   "metadata": {},
   "outputs": [],
   "source": [
    "# AQI Color\n",
    "# Green 0-50\n",
    "# Yellow 51-100\n",
    "# Orange 101-150\n",
    "# Red 151-200\n",
    "# Purple 201-300\n",
    "# Maroon >= 301"
   ]
  },
  {
   "cell_type": "markdown",
   "id": "849a5979-3e9f-48af-b541-44210e618a3e",
   "metadata": {},
   "source": [
    "#### To check if there are AQI index smaller than 0, which is out of the range of AQI(0-500)"
   ]
  },
  {
   "cell_type": "code",
   "execution_count": 24,
   "id": "89493e1b-9045-4103-9e8d-f1a3dda29144",
   "metadata": {},
   "outputs": [
    {
     "data": {
      "text/plain": [
       "count    5000.00000\n",
       "mean       12.45980\n",
       "std         6.09385\n",
       "min       -11.00000\n",
       "25%         8.00000\n",
       "50%        12.00000\n",
       "75%        17.00000\n",
       "max        32.00000\n",
       "Name: NO2 (Plume AQI), dtype: float64"
      ]
     },
     "execution_count": 24,
     "metadata": {},
     "output_type": "execute_result"
    }
   ],
   "source": [
    "# NO2 (Plume AQI) \n",
    "sim['NO2 (Plume AQI)'].describe()"
   ]
  },
  {
   "cell_type": "code",
   "execution_count": 54,
   "id": "02548025-5c9c-46ab-9e4a-bf3d73fd6281",
   "metadata": {},
   "outputs": [
    {
     "data": {
      "text/plain": [
       "66"
      ]
     },
     "execution_count": 54,
     "metadata": {},
     "output_type": "execute_result"
    }
   ],
   "source": [
    "len(sim[sim['NO2 (Plume AQI)'] <= 0])"
   ]
  },
  {
   "cell_type": "code",
   "execution_count": 59,
   "id": "b924d8f8-80e7-4cf6-807d-1f6a1477259a",
   "metadata": {},
   "outputs": [
    {
     "data": {
      "text/plain": [
       "count    4942.000000\n",
       "mean       13.491906\n",
       "std         1.049588\n",
       "min        10.000000\n",
       "25%        13.000000\n",
       "50%        14.000000\n",
       "75%        14.000000\n",
       "max        17.000000\n",
       "Name: VOC (Plume AQI), dtype: float64"
      ]
     },
     "execution_count": 59,
     "metadata": {},
     "output_type": "execute_result"
    }
   ],
   "source": [
    "sim['VOC (Plume AQI)'].describe()"
   ]
  },
  {
   "cell_type": "code",
   "execution_count": 60,
   "id": "de9da197-eba1-49f9-bff9-fca3329f4d69",
   "metadata": {},
   "outputs": [
    {
     "data": {
      "text/plain": [
       "count    4942.000000\n",
       "mean       16.556657\n",
       "std         6.021140\n",
       "min        -3.000000\n",
       "25%        12.000000\n",
       "50%        17.000000\n",
       "75%        21.000000\n",
       "max        37.000000\n",
       "Name: pm 1 (Plume AQI), dtype: float64"
      ]
     },
     "execution_count": 60,
     "metadata": {},
     "output_type": "execute_result"
    }
   ],
   "source": [
    "sim['pm 1 (Plume AQI)'].describe()"
   ]
  },
  {
   "cell_type": "code",
   "execution_count": 61,
   "id": "6bbc215b-b6e4-4cf4-a396-fddb3d191cd0",
   "metadata": {},
   "outputs": [
    {
     "data": {
      "text/plain": [
       "24"
      ]
     },
     "execution_count": 61,
     "metadata": {},
     "output_type": "execute_result"
    }
   ],
   "source": [
    "len(sim[sim['pm 1 (Plume AQI)'] <= 0])"
   ]
  },
  {
   "cell_type": "code",
   "execution_count": 62,
   "id": "2155ada8-ef64-4fce-9912-85180b1ac353",
   "metadata": {},
   "outputs": [
    {
     "data": {
      "text/plain": [
       "count    4942.000000\n",
       "mean       40.463780\n",
       "std         4.045657\n",
       "min        27.000000\n",
       "25%        38.000000\n",
       "50%        41.000000\n",
       "75%        43.000000\n",
       "max        54.000000\n",
       "Name: pm 10 (Plume AQI), dtype: float64"
      ]
     },
     "execution_count": 62,
     "metadata": {},
     "output_type": "execute_result"
    }
   ],
   "source": [
    "sim['pm 10 (Plume AQI)'].describe()"
   ]
  },
  {
   "cell_type": "code",
   "execution_count": 63,
   "id": "a7ab6bd5-69f8-4fa4-9af7-97e7280518ba",
   "metadata": {},
   "outputs": [
    {
     "data": {
      "text/plain": [
       "count    4942.000000\n",
       "mean       25.491501\n",
       "std         6.010063\n",
       "min         4.000000\n",
       "25%        22.000000\n",
       "50%        25.000000\n",
       "75%        30.000000\n",
       "max        48.000000\n",
       "Name: pm 25 (Plume AQI), dtype: float64"
      ]
     },
     "execution_count": 63,
     "metadata": {},
     "output_type": "execute_result"
    }
   ],
   "source": [
    "sim['pm 25 (Plume AQI)'].describe()"
   ]
  },
  {
   "cell_type": "markdown",
   "id": "0ce2434b-918b-496a-bd02-8e37c9e90be3",
   "metadata": {},
   "source": [
    "#### To remove rows which have negative AQI"
   ]
  },
  {
   "cell_type": "code",
   "execution_count": 77,
   "id": "14a8f873-b10c-4787-9b6d-6e314de22d6a",
   "metadata": {},
   "outputs": [
    {
     "data": {
      "text/plain": [
       "Int64Index([   5,   11,   53,  141,  241,  251,  422,  834, 1028, 1178, 1301,\n",
       "            1317, 1337, 1579, 1593, 1619, 1641, 1672, 1779, 1788, 1905, 1945,\n",
       "            2015, 2042, 2048, 2056, 2063, 2205, 2470, 2529, 2608, 2638, 2645,\n",
       "            2786, 2844, 2848, 2937, 2941, 3117, 3135, 3202, 3268, 3304, 3315,\n",
       "            3347, 3404, 3571, 3603, 3633, 3645, 3813, 3909, 4059, 4093, 4178,\n",
       "            4244, 4442, 4477, 4508, 4608, 4732, 4884, 4934, 4946, 4987, 4992],\n",
       "           dtype='int64')"
      ]
     },
     "execution_count": 77,
     "metadata": {},
     "output_type": "execute_result"
    }
   ],
   "source": [
    "df_no2 = sim[sim['NO2 (Plume AQI)'] <= 0].index\n",
    "df_no2"
   ]
  },
  {
   "cell_type": "code",
   "execution_count": 78,
   "id": "313d9a8b-6359-4e60-8ef9-db48a643bb17",
   "metadata": {},
   "outputs": [],
   "source": [
    "sim2 = sim.drop(labels=df_no2, axis=0)"
   ]
  },
  {
   "cell_type": "code",
   "execution_count": 79,
   "id": "4b4fbef1-ebd2-4621-9ae6-a7070c7e1e46",
   "metadata": {},
   "outputs": [
    {
     "data": {
      "text/plain": [
       "count    4876.000000\n",
       "mean       12.812961\n",
       "std         5.738425\n",
       "min         1.000000\n",
       "25%         9.000000\n",
       "50%        13.000000\n",
       "75%        17.000000\n",
       "max        32.000000\n",
       "Name: NO2 (Plume AQI), dtype: float64"
      ]
     },
     "execution_count": 79,
     "metadata": {},
     "output_type": "execute_result"
    }
   ],
   "source": [
    "sim2['NO2 (Plume AQI)'].describe()"
   ]
  },
  {
   "cell_type": "code",
   "execution_count": 80,
   "id": "5d66c3a0-fae7-4b1d-a944-444e160f92e9",
   "metadata": {},
   "outputs": [
    {
     "data": {
      "text/plain": [
       "0"
      ]
     },
     "execution_count": 80,
     "metadata": {},
     "output_type": "execute_result"
    }
   ],
   "source": [
    "len(sim2[sim2['NO2 (Plume AQI)'] <= 0])"
   ]
  },
  {
   "cell_type": "code",
   "execution_count": 81,
   "id": "b1c26b55-27a4-4edf-bd92-c558b8cb0618",
   "metadata": {},
   "outputs": [
    {
     "data": {
      "text/plain": [
       "Int64Index([  35,  100,  117,  173,  568,  643,  796, 1340, 1771, 2281, 2566,\n",
       "            2655, 2742, 2997, 3081, 3378, 3629, 3696, 3914, 3933, 3997, 4168,\n",
       "            4406, 4623],\n",
       "           dtype='int64')"
      ]
     },
     "execution_count": 81,
     "metadata": {},
     "output_type": "execute_result"
    }
   ],
   "source": [
    "df_pm1 = sim[sim['pm 1 (Plume AQI)'] <= 0].index\n",
    "df_pm1"
   ]
  },
  {
   "cell_type": "code",
   "execution_count": 82,
   "id": "2614b8d9-c855-4aab-82f3-a9a3ce83a97d",
   "metadata": {},
   "outputs": [],
   "source": [
    "sim2 = sim.drop(labels=df_pm1, axis=0)"
   ]
  },
  {
   "cell_type": "code",
   "execution_count": 83,
   "id": "d03e8c9c-5089-46a4-a2b1-fbf1e4d82421",
   "metadata": {},
   "outputs": [
    {
     "data": {
      "text/plain": [
       "count    4918.000000\n",
       "mean       16.641318\n",
       "std         5.911924\n",
       "min         1.000000\n",
       "25%        13.000000\n",
       "50%        17.000000\n",
       "75%        21.000000\n",
       "max        37.000000\n",
       "Name: pm 1 (Plume AQI), dtype: float64"
      ]
     },
     "execution_count": 83,
     "metadata": {},
     "output_type": "execute_result"
    }
   ],
   "source": [
    "sim2['pm 1 (Plume AQI)'].describe()"
   ]
  },
  {
   "cell_type": "code",
   "execution_count": 84,
   "id": "3f1618ea-5e24-4756-a5a5-2f1c740c5d93",
   "metadata": {},
   "outputs": [
    {
     "data": {
      "text/plain": [
       "0"
      ]
     },
     "execution_count": 84,
     "metadata": {},
     "output_type": "execute_result"
    }
   ],
   "source": [
    "len(sim2[sim2['pm 1 (Plume AQI)'] <= 0])"
   ]
  },
  {
   "cell_type": "code",
   "execution_count": 85,
   "id": "fadb9631-f086-4177-9259-1261f7fe6e85",
   "metadata": {},
   "outputs": [
    {
     "data": {
      "text/html": [
       "<div>\n",
       "<style scoped>\n",
       "    .dataframe tbody tr th:only-of-type {\n",
       "        vertical-align: middle;\n",
       "    }\n",
       "\n",
       "    .dataframe tbody tr th {\n",
       "        vertical-align: top;\n",
       "    }\n",
       "\n",
       "    .dataframe thead th {\n",
       "        text-align: right;\n",
       "    }\n",
       "</style>\n",
       "<table border=\"1\" class=\"dataframe\">\n",
       "  <thead>\n",
       "    <tr style=\"text-align: right;\">\n",
       "      <th></th>\n",
       "      <th>Monitor ID</th>\n",
       "      <th>NO2 (ppb)</th>\n",
       "      <th>NO2 (Plume AQI)</th>\n",
       "      <th>VOC (ppb)</th>\n",
       "      <th>VOC (Plume AQI)</th>\n",
       "      <th>pm 1 (ug/m3)</th>\n",
       "      <th>pm 1 (Plume AQI)</th>\n",
       "      <th>pm 10 (ug/m3)</th>\n",
       "      <th>pm 10 (Plume AQI)</th>\n",
       "      <th>pm25 (ug/m3)</th>\n",
       "      <th>pm 25 (Plume AQI)</th>\n",
       "      <th>latitude</th>\n",
       "      <th>longitude</th>\n",
       "    </tr>\n",
       "  </thead>\n",
       "  <tbody>\n",
       "    <tr>\n",
       "      <th>count</th>\n",
       "      <td>4918.000000</td>\n",
       "      <td>4918.000000</td>\n",
       "      <td>4918.000000</td>\n",
       "      <td>4918.000000</td>\n",
       "      <td>4918.000000</td>\n",
       "      <td>4918.000000</td>\n",
       "      <td>4918.000000</td>\n",
       "      <td>4918.000000</td>\n",
       "      <td>4918.000000</td>\n",
       "      <td>4918.000000</td>\n",
       "      <td>4918.000000</td>\n",
       "      <td>4918.000000</td>\n",
       "      <td>4918.000000</td>\n",
       "    </tr>\n",
       "    <tr>\n",
       "      <th>mean</th>\n",
       "      <td>13493.416023</td>\n",
       "      <td>52.453843</td>\n",
       "      <td>12.648028</td>\n",
       "      <td>179.495730</td>\n",
       "      <td>13.494307</td>\n",
       "      <td>6.431680</td>\n",
       "      <td>16.641318</td>\n",
       "      <td>36.526027</td>\n",
       "      <td>40.460553</td>\n",
       "      <td>12.453233</td>\n",
       "      <td>25.498373</td>\n",
       "      <td>100.052567</td>\n",
       "      <td>99.940357</td>\n",
       "    </tr>\n",
       "    <tr>\n",
       "      <th>std</th>\n",
       "      <td>287.976400</td>\n",
       "      <td>2.965568</td>\n",
       "      <td>5.884830</td>\n",
       "      <td>5.036362</td>\n",
       "      <td>1.050034</td>\n",
       "      <td>2.029603</td>\n",
       "      <td>5.911924</td>\n",
       "      <td>6.117954</td>\n",
       "      <td>4.047306</td>\n",
       "      <td>5.958175</td>\n",
       "      <td>6.015901</td>\n",
       "      <td>57.756022</td>\n",
       "      <td>57.618113</td>\n",
       "    </tr>\n",
       "    <tr>\n",
       "      <th>min</th>\n",
       "      <td>13000.000000</td>\n",
       "      <td>41.000000</td>\n",
       "      <td>0.000000</td>\n",
       "      <td>160.000000</td>\n",
       "      <td>10.000000</td>\n",
       "      <td>0.000000</td>\n",
       "      <td>1.000000</td>\n",
       "      <td>16.000000</td>\n",
       "      <td>27.000000</td>\n",
       "      <td>-9.000000</td>\n",
       "      <td>4.000000</td>\n",
       "      <td>0.026543</td>\n",
       "      <td>0.103863</td>\n",
       "    </tr>\n",
       "    <tr>\n",
       "      <th>25%</th>\n",
       "      <td>13250.000000</td>\n",
       "      <td>50.000000</td>\n",
       "      <td>8.000000</td>\n",
       "      <td>176.000000</td>\n",
       "      <td>13.000000</td>\n",
       "      <td>5.000000</td>\n",
       "      <td>13.000000</td>\n",
       "      <td>33.000000</td>\n",
       "      <td>38.000000</td>\n",
       "      <td>8.000000</td>\n",
       "      <td>22.000000</td>\n",
       "      <td>49.382712</td>\n",
       "      <td>50.100126</td>\n",
       "    </tr>\n",
       "    <tr>\n",
       "      <th>50%</th>\n",
       "      <td>13490.000000</td>\n",
       "      <td>52.000000</td>\n",
       "      <td>13.000000</td>\n",
       "      <td>180.000000</td>\n",
       "      <td>14.000000</td>\n",
       "      <td>6.000000</td>\n",
       "      <td>17.000000</td>\n",
       "      <td>37.000000</td>\n",
       "      <td>41.000000</td>\n",
       "      <td>12.000000</td>\n",
       "      <td>25.000000</td>\n",
       "      <td>100.294766</td>\n",
       "      <td>99.712585</td>\n",
       "    </tr>\n",
       "    <tr>\n",
       "      <th>75%</th>\n",
       "      <td>13740.000000</td>\n",
       "      <td>54.000000</td>\n",
       "      <td>17.000000</td>\n",
       "      <td>183.000000</td>\n",
       "      <td>14.000000</td>\n",
       "      <td>8.000000</td>\n",
       "      <td>21.000000</td>\n",
       "      <td>41.000000</td>\n",
       "      <td>43.000000</td>\n",
       "      <td>16.000000</td>\n",
       "      <td>30.000000</td>\n",
       "      <td>150.027497</td>\n",
       "      <td>149.455130</td>\n",
       "    </tr>\n",
       "    <tr>\n",
       "      <th>max</th>\n",
       "      <td>14000.000000</td>\n",
       "      <td>63.000000</td>\n",
       "      <td>32.000000</td>\n",
       "      <td>196.000000</td>\n",
       "      <td>17.000000</td>\n",
       "      <td>14.000000</td>\n",
       "      <td>37.000000</td>\n",
       "      <td>58.000000</td>\n",
       "      <td>54.000000</td>\n",
       "      <td>32.000000</td>\n",
       "      <td>48.000000</td>\n",
       "      <td>199.966726</td>\n",
       "      <td>199.960684</td>\n",
       "    </tr>\n",
       "  </tbody>\n",
       "</table>\n",
       "</div>"
      ],
      "text/plain": [
       "         Monitor ID    NO2 (ppb)  NO2 (Plume AQI)    VOC (ppb)  \\\n",
       "count   4918.000000  4918.000000      4918.000000  4918.000000   \n",
       "mean   13493.416023    52.453843        12.648028   179.495730   \n",
       "std      287.976400     2.965568         5.884830     5.036362   \n",
       "min    13000.000000    41.000000         0.000000   160.000000   \n",
       "25%    13250.000000    50.000000         8.000000   176.000000   \n",
       "50%    13490.000000    52.000000        13.000000   180.000000   \n",
       "75%    13740.000000    54.000000        17.000000   183.000000   \n",
       "max    14000.000000    63.000000        32.000000   196.000000   \n",
       "\n",
       "       VOC (Plume AQI)  pm 1 (ug/m3)  pm 1 (Plume AQI)  pm 10 (ug/m3)  \\\n",
       "count      4918.000000   4918.000000       4918.000000    4918.000000   \n",
       "mean         13.494307      6.431680         16.641318      36.526027   \n",
       "std           1.050034      2.029603          5.911924       6.117954   \n",
       "min          10.000000      0.000000          1.000000      16.000000   \n",
       "25%          13.000000      5.000000         13.000000      33.000000   \n",
       "50%          14.000000      6.000000         17.000000      37.000000   \n",
       "75%          14.000000      8.000000         21.000000      41.000000   \n",
       "max          17.000000     14.000000         37.000000      58.000000   \n",
       "\n",
       "       pm 10 (Plume AQI)  pm25 (ug/m3)  pm 25 (Plume AQI)     latitude  \\\n",
       "count        4918.000000   4918.000000        4918.000000  4918.000000   \n",
       "mean           40.460553     12.453233          25.498373   100.052567   \n",
       "std             4.047306      5.958175           6.015901    57.756022   \n",
       "min            27.000000     -9.000000           4.000000     0.026543   \n",
       "25%            38.000000      8.000000          22.000000    49.382712   \n",
       "50%            41.000000     12.000000          25.000000   100.294766   \n",
       "75%            43.000000     16.000000          30.000000   150.027497   \n",
       "max            54.000000     32.000000          48.000000   199.966726   \n",
       "\n",
       "         longitude  \n",
       "count  4918.000000  \n",
       "mean     99.940357  \n",
       "std      57.618113  \n",
       "min       0.103863  \n",
       "25%      50.100126  \n",
       "50%      99.712585  \n",
       "75%     149.455130  \n",
       "max     199.960684  "
      ]
     },
     "execution_count": 85,
     "metadata": {},
     "output_type": "execute_result"
    }
   ],
   "source": [
    "sim2.describe()"
   ]
  },
  {
   "cell_type": "markdown",
   "id": "66d2c9b1-4e59-46db-801e-878ab2152cd6",
   "metadata": {},
   "source": [
    "#### To check values in PPB "
   ]
  },
  {
   "cell_type": "code",
   "execution_count": 86,
   "id": "aef7d8c7-703b-4db1-894e-c5db4dae15b3",
   "metadata": {},
   "outputs": [
    {
     "data": {
      "text/plain": [
       "count    4918.000000\n",
       "mean       52.453843\n",
       "std         2.965568\n",
       "min        41.000000\n",
       "25%        50.000000\n",
       "50%        52.000000\n",
       "75%        54.000000\n",
       "max        63.000000\n",
       "Name: NO2 (ppb), dtype: float64"
      ]
     },
     "execution_count": 86,
     "metadata": {},
     "output_type": "execute_result"
    }
   ],
   "source": [
    "# NO2 ppb\n",
    "# Primary and secondary NO2: 53 ppb\n",
    "# Primary NO2: 100 ppb\n",
    "sim2['NO2 (ppb)'].describe()"
   ]
  },
  {
   "cell_type": "code",
   "execution_count": 87,
   "id": "a23ba5ef-dc4b-4a2f-8872-09d8dd18047b",
   "metadata": {},
   "outputs": [
    {
     "data": {
      "text/plain": [
       "count    4918.000000\n",
       "mean      179.495730\n",
       "std         5.036362\n",
       "min       160.000000\n",
       "25%       176.000000\n",
       "50%       180.000000\n",
       "75%       183.000000\n",
       "max       196.000000\n",
       "Name: VOC (ppb), dtype: float64"
      ]
     },
     "execution_count": 87,
     "metadata": {},
     "output_type": "execute_result"
    }
   ],
   "source": [
    "# VOC\n",
    "# No standards found in links provided\n",
    "# Formaldehyde: One of the most common VOCs – formaldehyde – \n",
    "#can be emitted from numerous sources, such as furniture, incense burning,\n",
    "# and cooking. Note that its threshold limit value is 0.1 ppm TLV-TWA* and 0.3 ppm TLV-STEL**.\n",
    "# 0.1 ppm = 100ppb\n",
    "# 0.3 ppm = 300 ppb\n",
    "sim2['VOC (ppb)'].describe()"
   ]
  },
  {
   "cell_type": "code",
   "execution_count": 88,
   "id": "e05a0b05-ef88-4f48-be37-e2c1d3e87679",
   "metadata": {},
   "outputs": [
    {
     "data": {
      "text/plain": [
       "count    4918.000000\n",
       "mean        6.431680\n",
       "std         2.029603\n",
       "min         0.000000\n",
       "25%         5.000000\n",
       "50%         6.000000\n",
       "75%         8.000000\n",
       "max        14.000000\n",
       "Name: pm 1 (ug/m3), dtype: float64"
      ]
     },
     "execution_count": 88,
     "metadata": {},
     "output_type": "execute_result"
    }
   ],
   "source": [
    "# pm 1 (ug/m3)\n",
    "# No standards found\n",
    "sim2['pm 1 (ug/m3)'].describe()"
   ]
  },
  {
   "cell_type": "code",
   "execution_count": 90,
   "id": "744b693e-d61b-4757-adfd-11229283c7b7",
   "metadata": {},
   "outputs": [
    {
     "data": {
      "text/plain": [
       "count    4918.000000\n",
       "mean       36.526027\n",
       "std         6.117954\n",
       "min        16.000000\n",
       "25%        33.000000\n",
       "50%        37.000000\n",
       "75%        41.000000\n",
       "max        58.000000\n",
       "Name: pm 10 (ug/m3), dtype: float64"
      ]
     },
     "execution_count": 90,
     "metadata": {},
     "output_type": "execute_result"
    }
   ],
   "source": [
    "# pm 10 (ug/m3)\n",
    "# Primary and Secondary: 150 μg/m3\n",
    "sim2['pm 10 (ug/m3)'].describe()"
   ]
  },
  {
   "cell_type": "code",
   "execution_count": 91,
   "id": "1cded6d6-0039-4c88-8334-e87e307d57b4",
   "metadata": {},
   "outputs": [
    {
     "data": {
      "text/plain": [
       "count    4918.000000\n",
       "mean       12.453233\n",
       "std         5.958175\n",
       "min        -9.000000\n",
       "25%         8.000000\n",
       "50%        12.000000\n",
       "75%        16.000000\n",
       "max        32.000000\n",
       "Name: pm25 (ug/m3), dtype: float64"
      ]
     },
     "execution_count": 91,
     "metadata": {},
     "output_type": "execute_result"
    }
   ],
   "source": [
    "# pm25 (ug/m3)\n",
    "# Primary and Secondary: 35 μg/m3\n",
    "sim2['pm25 (ug/m3)'].describe()"
   ]
  },
  {
   "cell_type": "code",
   "execution_count": 95,
   "id": "079194d5-941d-4bc1-b50f-da387c843f75",
   "metadata": {},
   "outputs": [
    {
     "data": {
      "text/plain": [
       "112"
      ]
     },
     "execution_count": 95,
     "metadata": {},
     "output_type": "execute_result"
    }
   ],
   "source": [
    "len(sim2[sim2['pm25 (ug/m3)'] <= 0])"
   ]
  },
  {
   "cell_type": "code",
   "execution_count": 96,
   "id": "3d78a1f4-e1ad-4181-9302-bc4e7fe14f49",
   "metadata": {},
   "outputs": [
    {
     "data": {
      "text/plain": [
       "Int64Index([  13,  158,  273,  289,  313,  375,  392,  401,  491,  558,\n",
       "            ...\n",
       "            4687, 4792, 4810, 4843, 4849, 4865, 4899, 4908, 4942, 4978],\n",
       "           dtype='int64', length=112)"
      ]
     },
     "execution_count": 96,
     "metadata": {},
     "output_type": "execute_result"
    }
   ],
   "source": [
    "df_pm25 = sim2[sim2['pm25 (ug/m3)'] <= 0].index\n",
    "df_pm25"
   ]
  },
  {
   "cell_type": "code",
   "execution_count": 97,
   "id": "41b1c131-1928-4455-97db-500cfdd0264a",
   "metadata": {},
   "outputs": [],
   "source": [
    "sim3 = sim2.drop(labels=df_pm25, axis=0)"
   ]
  },
  {
   "cell_type": "code",
   "execution_count": 98,
   "id": "3650ca98-c25a-49c5-9452-10b7bc7134cd",
   "metadata": {},
   "outputs": [
    {
     "data": {
      "text/plain": [
       "0"
      ]
     },
     "execution_count": 98,
     "metadata": {},
     "output_type": "execute_result"
    }
   ],
   "source": [
    "len(sim3[sim3['pm25 (ug/m3)'] <= 0])"
   ]
  },
  {
   "cell_type": "code",
   "execution_count": 99,
   "id": "4b697e72-88db-4d0f-811d-b2bdae1b7bb3",
   "metadata": {},
   "outputs": [
    {
     "data": {
      "text/html": [
       "<div>\n",
       "<style scoped>\n",
       "    .dataframe tbody tr th:only-of-type {\n",
       "        vertical-align: middle;\n",
       "    }\n",
       "\n",
       "    .dataframe tbody tr th {\n",
       "        vertical-align: top;\n",
       "    }\n",
       "\n",
       "    .dataframe thead th {\n",
       "        text-align: right;\n",
       "    }\n",
       "</style>\n",
       "<table border=\"1\" class=\"dataframe\">\n",
       "  <thead>\n",
       "    <tr style=\"text-align: right;\">\n",
       "      <th></th>\n",
       "      <th>Monitor ID</th>\n",
       "      <th>NO2 (ppb)</th>\n",
       "      <th>NO2 (Plume AQI)</th>\n",
       "      <th>VOC (ppb)</th>\n",
       "      <th>VOC (Plume AQI)</th>\n",
       "      <th>pm 1 (ug/m3)</th>\n",
       "      <th>pm 1 (Plume AQI)</th>\n",
       "      <th>pm 10 (ug/m3)</th>\n",
       "      <th>pm 10 (Plume AQI)</th>\n",
       "      <th>pm25 (ug/m3)</th>\n",
       "      <th>pm 25 (Plume AQI)</th>\n",
       "      <th>latitude</th>\n",
       "      <th>longitude</th>\n",
       "    </tr>\n",
       "  </thead>\n",
       "  <tbody>\n",
       "    <tr>\n",
       "      <th>count</th>\n",
       "      <td>4806.000000</td>\n",
       "      <td>4806.000000</td>\n",
       "      <td>4806.000000</td>\n",
       "      <td>4806.000000</td>\n",
       "      <td>4806.000000</td>\n",
       "      <td>4806.000000</td>\n",
       "      <td>4806.000000</td>\n",
       "      <td>4806.000000</td>\n",
       "      <td>4806.000000</td>\n",
       "      <td>4806.000000</td>\n",
       "      <td>4806.000000</td>\n",
       "      <td>4806.000000</td>\n",
       "      <td>4806.000000</td>\n",
       "    </tr>\n",
       "    <tr>\n",
       "      <th>mean</th>\n",
       "      <td>13492.315855</td>\n",
       "      <td>52.453184</td>\n",
       "      <td>12.658344</td>\n",
       "      <td>179.508323</td>\n",
       "      <td>13.497295</td>\n",
       "      <td>6.429047</td>\n",
       "      <td>16.634415</td>\n",
       "      <td>36.532667</td>\n",
       "      <td>40.469621</td>\n",
       "      <td>12.772784</td>\n",
       "      <td>25.496879</td>\n",
       "      <td>100.071515</td>\n",
       "      <td>100.127527</td>\n",
       "    </tr>\n",
       "    <tr>\n",
       "      <th>std</th>\n",
       "      <td>288.082080</td>\n",
       "      <td>2.970089</td>\n",
       "      <td>5.890308</td>\n",
       "      <td>5.048056</td>\n",
       "      <td>1.049797</td>\n",
       "      <td>2.026839</td>\n",
       "      <td>5.907343</td>\n",
       "      <td>6.125812</td>\n",
       "      <td>4.047508</td>\n",
       "      <td>5.635880</td>\n",
       "      <td>6.021734</td>\n",
       "      <td>57.750904</td>\n",
       "      <td>57.716153</td>\n",
       "    </tr>\n",
       "    <tr>\n",
       "      <th>min</th>\n",
       "      <td>13000.000000</td>\n",
       "      <td>41.000000</td>\n",
       "      <td>0.000000</td>\n",
       "      <td>160.000000</td>\n",
       "      <td>10.000000</td>\n",
       "      <td>0.000000</td>\n",
       "      <td>1.000000</td>\n",
       "      <td>16.000000</td>\n",
       "      <td>27.000000</td>\n",
       "      <td>1.000000</td>\n",
       "      <td>4.000000</td>\n",
       "      <td>0.026543</td>\n",
       "      <td>0.103863</td>\n",
       "    </tr>\n",
       "    <tr>\n",
       "      <th>25%</th>\n",
       "      <td>13250.000000</td>\n",
       "      <td>50.000000</td>\n",
       "      <td>8.000000</td>\n",
       "      <td>176.000000</td>\n",
       "      <td>13.000000</td>\n",
       "      <td>5.000000</td>\n",
       "      <td>13.000000</td>\n",
       "      <td>33.000000</td>\n",
       "      <td>38.000000</td>\n",
       "      <td>9.000000</td>\n",
       "      <td>21.250000</td>\n",
       "      <td>49.382712</td>\n",
       "      <td>50.105715</td>\n",
       "    </tr>\n",
       "    <tr>\n",
       "      <th>50%</th>\n",
       "      <td>13490.000000</td>\n",
       "      <td>52.000000</td>\n",
       "      <td>13.000000</td>\n",
       "      <td>180.000000</td>\n",
       "      <td>14.000000</td>\n",
       "      <td>6.000000</td>\n",
       "      <td>17.000000</td>\n",
       "      <td>37.000000</td>\n",
       "      <td>41.000000</td>\n",
       "      <td>13.000000</td>\n",
       "      <td>25.000000</td>\n",
       "      <td>100.346798</td>\n",
       "      <td>100.005914</td>\n",
       "    </tr>\n",
       "    <tr>\n",
       "      <th>75%</th>\n",
       "      <td>13740.000000</td>\n",
       "      <td>54.000000</td>\n",
       "      <td>17.000000</td>\n",
       "      <td>183.000000</td>\n",
       "      <td>14.000000</td>\n",
       "      <td>8.000000</td>\n",
       "      <td>21.000000</td>\n",
       "      <td>41.000000</td>\n",
       "      <td>43.000000</td>\n",
       "      <td>17.000000</td>\n",
       "      <td>30.000000</td>\n",
       "      <td>150.014574</td>\n",
       "      <td>149.680388</td>\n",
       "    </tr>\n",
       "    <tr>\n",
       "      <th>max</th>\n",
       "      <td>14000.000000</td>\n",
       "      <td>63.000000</td>\n",
       "      <td>32.000000</td>\n",
       "      <td>196.000000</td>\n",
       "      <td>17.000000</td>\n",
       "      <td>14.000000</td>\n",
       "      <td>37.000000</td>\n",
       "      <td>58.000000</td>\n",
       "      <td>54.000000</td>\n",
       "      <td>32.000000</td>\n",
       "      <td>48.000000</td>\n",
       "      <td>199.966726</td>\n",
       "      <td>199.960684</td>\n",
       "    </tr>\n",
       "  </tbody>\n",
       "</table>\n",
       "</div>"
      ],
      "text/plain": [
       "         Monitor ID    NO2 (ppb)  NO2 (Plume AQI)    VOC (ppb)  \\\n",
       "count   4806.000000  4806.000000      4806.000000  4806.000000   \n",
       "mean   13492.315855    52.453184        12.658344   179.508323   \n",
       "std      288.082080     2.970089         5.890308     5.048056   \n",
       "min    13000.000000    41.000000         0.000000   160.000000   \n",
       "25%    13250.000000    50.000000         8.000000   176.000000   \n",
       "50%    13490.000000    52.000000        13.000000   180.000000   \n",
       "75%    13740.000000    54.000000        17.000000   183.000000   \n",
       "max    14000.000000    63.000000        32.000000   196.000000   \n",
       "\n",
       "       VOC (Plume AQI)  pm 1 (ug/m3)  pm 1 (Plume AQI)  pm 10 (ug/m3)  \\\n",
       "count      4806.000000   4806.000000       4806.000000    4806.000000   \n",
       "mean         13.497295      6.429047         16.634415      36.532667   \n",
       "std           1.049797      2.026839          5.907343       6.125812   \n",
       "min          10.000000      0.000000          1.000000      16.000000   \n",
       "25%          13.000000      5.000000         13.000000      33.000000   \n",
       "50%          14.000000      6.000000         17.000000      37.000000   \n",
       "75%          14.000000      8.000000         21.000000      41.000000   \n",
       "max          17.000000     14.000000         37.000000      58.000000   \n",
       "\n",
       "       pm 10 (Plume AQI)  pm25 (ug/m3)  pm 25 (Plume AQI)     latitude  \\\n",
       "count        4806.000000   4806.000000        4806.000000  4806.000000   \n",
       "mean           40.469621     12.772784          25.496879   100.071515   \n",
       "std             4.047508      5.635880           6.021734    57.750904   \n",
       "min            27.000000      1.000000           4.000000     0.026543   \n",
       "25%            38.000000      9.000000          21.250000    49.382712   \n",
       "50%            41.000000     13.000000          25.000000   100.346798   \n",
       "75%            43.000000     17.000000          30.000000   150.014574   \n",
       "max            54.000000     32.000000          48.000000   199.966726   \n",
       "\n",
       "         longitude  \n",
       "count  4806.000000  \n",
       "mean    100.127527  \n",
       "std      57.716153  \n",
       "min       0.103863  \n",
       "25%      50.105715  \n",
       "50%     100.005914  \n",
       "75%     149.680388  \n",
       "max     199.960684  "
      ]
     },
     "execution_count": 99,
     "metadata": {},
     "output_type": "execute_result"
    }
   ],
   "source": [
    "sim3.describe()"
   ]
  },
  {
   "cell_type": "code",
   "execution_count": 107,
   "id": "49d1c977-4db1-46a4-9640-7dca6622bc79",
   "metadata": {},
   "outputs": [
    {
     "data": {
      "text/plain": [
       "count    4806.000000\n",
       "mean      100.071515\n",
       "std        57.750904\n",
       "min         0.026543\n",
       "25%        49.382712\n",
       "50%       100.346798\n",
       "75%       150.014574\n",
       "max       199.966726\n",
       "Name: latitude, dtype: float64"
      ]
     },
     "execution_count": 107,
     "metadata": {},
     "output_type": "execute_result"
    }
   ],
   "source": [
    "sim3['latitude'].describe()"
   ]
  },
  {
   "cell_type": "code",
   "execution_count": 108,
   "id": "9d09205c-e2bd-40b2-a7de-3d030c047a21",
   "metadata": {},
   "outputs": [
    {
     "data": {
      "text/plain": [
       "count    4806.000000\n",
       "mean      100.127527\n",
       "std        57.716153\n",
       "min         0.103863\n",
       "25%        50.105715\n",
       "50%       100.005914\n",
       "75%       149.680388\n",
       "max       199.960684\n",
       "Name: longitude, dtype: float64"
      ]
     },
     "execution_count": 108,
     "metadata": {},
     "output_type": "execute_result"
    }
   ],
   "source": [
    "sim3['longitude'].describe()"
   ]
  },
  {
   "cell_type": "markdown",
   "id": "89a61715-fef3-4c9f-9504-dd406817f2ef",
   "metadata": {},
   "source": [
    "#### Latitude and longitude"
   ]
  },
  {
   "cell_type": "code",
   "execution_count": 101,
   "id": "d19de357-88a5-472d-861c-962fc9fcdd4a",
   "metadata": {},
   "outputs": [
    {
     "data": {
      "text/plain": [
       "1982"
      ]
     },
     "execution_count": 101,
     "metadata": {},
     "output_type": "execute_result"
    }
   ],
   "source": [
    "# longitude: 90-82W\n",
    "# latitude: 41.5-48N\n",
    "len(sim3[sim3['latitude'] < 82])"
   ]
  },
  {
   "cell_type": "code",
   "execution_count": 102,
   "id": "66993044-886e-4d20-bd4f-81af5b36bad7",
   "metadata": {},
   "outputs": [
    {
     "data": {
      "text/plain": [
       "2622"
      ]
     },
     "execution_count": 102,
     "metadata": {},
     "output_type": "execute_result"
    }
   ],
   "source": [
    "len(sim3[sim3['latitude'] > 90])"
   ]
  },
  {
   "cell_type": "code",
   "execution_count": 103,
   "id": "d261fb16-2da6-46ff-92cc-afe875664eee",
   "metadata": {},
   "outputs": [
    {
     "data": {
      "text/plain": [
       "998"
      ]
     },
     "execution_count": 103,
     "metadata": {},
     "output_type": "execute_result"
    }
   ],
   "source": [
    "len(sim3[sim3['longitude'] < 41.5])"
   ]
  },
  {
   "cell_type": "code",
   "execution_count": 104,
   "id": "16353e6a-ca25-4b8f-adf9-ca84e6a63dbc",
   "metadata": {},
   "outputs": [
    {
     "data": {
      "text/plain": [
       "1159"
      ]
     },
     "execution_count": 104,
     "metadata": {},
     "output_type": "execute_result"
    }
   ],
   "source": [
    "len(sim3[sim3['longitude'] < 48])"
   ]
  },
  {
   "cell_type": "code",
   "execution_count": 109,
   "id": "aeb4869a-c9a9-4e45-8dc7-2f790b822183",
   "metadata": {},
   "outputs": [],
   "source": [
    "#latitude: 41.852566 ~ 42.83393\n",
    "#longitude: -84.8425 ~ -83.637391\n",
    "\n",
    "#latitude: 42.227716 ~ 42.722701\n",
    "#longitude: -83.723986 ~ -83.154239\n"
   ]
  },
  {
   "cell_type": "code",
   "execution_count": 117,
   "id": "73731ee4-53c0-41f6-aa35-76a0c0ec6369",
   "metadata": {},
   "outputs": [
    {
     "data": {
      "text/plain": [
       "4806"
      ]
     },
     "execution_count": 117,
     "metadata": {},
     "output_type": "execute_result"
    }
   ],
   "source": [
    "len(sim3)"
   ]
  },
  {
   "cell_type": "markdown",
   "id": "4cce7166-7bf9-4353-9da0-db68fafe5252",
   "metadata": {},
   "source": [
    "* Latitude"
   ]
  },
  {
   "cell_type": "code",
   "execution_count": 143,
   "id": "7d2c7c48-1903-48e2-8467-37b7f67e0af5",
   "metadata": {},
   "outputs": [],
   "source": [
    "lat_ran1 = np.random.uniform(low=41.8, high=42.8, size=400).tolist()"
   ]
  },
  {
   "cell_type": "code",
   "execution_count": 144,
   "id": "ff400d06-bc46-4799-91be-3a7a5db25b45",
   "metadata": {},
   "outputs": [],
   "source": [
    "lat_ran2 = np.random.uniform(low=42.2, high=42.7, size=401).tolist()"
   ]
  },
  {
   "cell_type": "code",
   "execution_count": 148,
   "id": "cb0c83d3-15e1-4ecf-8558-94141affb8dd",
   "metadata": {},
   "outputs": [
    {
     "data": {
      "text/plain": [
       "4806"
      ]
     },
     "execution_count": 148,
     "metadata": {},
     "output_type": "execute_result"
    }
   ],
   "source": [
    "lat_ran = lat_ran1 + lat_ran2 + lat_ran2 + lat_ran2 +lat_ran1 + lat_ran1 + lat_ran1 + lat_ran2 + lat_ran2 + lat_ran2 +lat_ran1 + lat_ran1\n",
    "lat_ran = [round(num, 6) for num in lat_ran]\n",
    "len(lat_ran)"
   ]
  },
  {
   "cell_type": "code",
   "execution_count": 146,
   "id": "d5966c65-77ab-4acc-bf27-e38c124b3dbf",
   "metadata": {},
   "outputs": [
    {
     "data": {
      "text/plain": [
       "4806"
      ]
     },
     "execution_count": 146,
     "metadata": {},
     "output_type": "execute_result"
    }
   ],
   "source": [
    "len(lat_ran)"
   ]
  },
  {
   "cell_type": "markdown",
   "id": "ce2d719a-a965-4c45-8bc3-49ff9513f1a9",
   "metadata": {},
   "source": [
    "* Longitude"
   ]
  },
  {
   "cell_type": "code",
   "execution_count": 156,
   "id": "9f2c033a-841a-463f-8f75-9e03204fccc0",
   "metadata": {},
   "outputs": [],
   "source": [
    "long_ran1 = np.random.uniform(low=-84.8425, high=-83.637391, size=400).tolist()"
   ]
  },
  {
   "cell_type": "code",
   "execution_count": 157,
   "id": "d7093342-56ef-4965-912f-2e1acbd4bfaf",
   "metadata": {},
   "outputs": [],
   "source": [
    "long_ran2 = np.random.uniform(low=-83.723986, high=-83.154239, size=401).tolist()"
   ]
  },
  {
   "cell_type": "code",
   "execution_count": 158,
   "id": "a1ab9ac9-5147-48c6-a68e-ad830cd0a69f",
   "metadata": {},
   "outputs": [
    {
     "data": {
      "text/plain": [
       "4806"
      ]
     },
     "execution_count": 158,
     "metadata": {},
     "output_type": "execute_result"
    }
   ],
   "source": [
    "long_ran = long_ran1 + long_ran2 + long_ran2 + long_ran2 + long_ran1 + long_ran1 + long_ran1 + long_ran2 + long_ran2 + long_ran2 + long_ran1 + long_ran1\n",
    "long_ran = [round(num, 6) for num in long_ran]\n",
    "len(long_ran)"
   ]
  },
  {
   "cell_type": "markdown",
   "id": "7a9ab815-ee82-428c-82d7-892282a5df7b",
   "metadata": {},
   "source": [
    "* update latitudes and longitudes"
   ]
  },
  {
   "cell_type": "code",
   "execution_count": 159,
   "id": "dfe06360-8185-4ecb-805c-7aec99dda631",
   "metadata": {},
   "outputs": [],
   "source": [
    "sim3['latitude'] = lat_ran\n",
    "sim3['longitude'] = long_ran"
   ]
  },
  {
   "cell_type": "code",
   "execution_count": 161,
   "id": "23f0916b-b9c2-4cfd-9914-af25ca5151b2",
   "metadata": {},
   "outputs": [
    {
     "data": {
      "text/html": [
       "<div>\n",
       "<style scoped>\n",
       "    .dataframe tbody tr th:only-of-type {\n",
       "        vertical-align: middle;\n",
       "    }\n",
       "\n",
       "    .dataframe tbody tr th {\n",
       "        vertical-align: top;\n",
       "    }\n",
       "\n",
       "    .dataframe thead th {\n",
       "        text-align: right;\n",
       "    }\n",
       "</style>\n",
       "<table border=\"1\" class=\"dataframe\">\n",
       "  <thead>\n",
       "    <tr style=\"text-align: right;\">\n",
       "      <th></th>\n",
       "      <th>date</th>\n",
       "      <th>Monitor ID</th>\n",
       "      <th>NO2 (ppb)</th>\n",
       "      <th>NO2 (Plume AQI)</th>\n",
       "      <th>VOC (ppb)</th>\n",
       "      <th>VOC (Plume AQI)</th>\n",
       "      <th>pm 1 (ug/m3)</th>\n",
       "      <th>pm 1 (Plume AQI)</th>\n",
       "      <th>pm 10 (ug/m3)</th>\n",
       "      <th>pm 10 (Plume AQI)</th>\n",
       "      <th>pm25 (ug/m3)</th>\n",
       "      <th>pm 25 (Plume AQI)</th>\n",
       "      <th>latitude</th>\n",
       "      <th>longitude</th>\n",
       "    </tr>\n",
       "  </thead>\n",
       "  <tbody>\n",
       "    <tr>\n",
       "      <th>0</th>\n",
       "      <td>2022-01-01 00:00:00</td>\n",
       "      <td>13350</td>\n",
       "      <td>54</td>\n",
       "      <td>19</td>\n",
       "      <td>172</td>\n",
       "      <td>15</td>\n",
       "      <td>4</td>\n",
       "      <td>11</td>\n",
       "      <td>33</td>\n",
       "      <td>47</td>\n",
       "      <td>20</td>\n",
       "      <td>30</td>\n",
       "      <td>42.379941</td>\n",
       "      <td>-83.751616</td>\n",
       "    </tr>\n",
       "    <tr>\n",
       "      <th>1</th>\n",
       "      <td>2022-01-01 01:00:00</td>\n",
       "      <td>13450</td>\n",
       "      <td>48</td>\n",
       "      <td>11</td>\n",
       "      <td>188</td>\n",
       "      <td>12</td>\n",
       "      <td>3</td>\n",
       "      <td>19</td>\n",
       "      <td>33</td>\n",
       "      <td>45</td>\n",
       "      <td>17</td>\n",
       "      <td>32</td>\n",
       "      <td>41.829074</td>\n",
       "      <td>-84.799743</td>\n",
       "    </tr>\n",
       "    <tr>\n",
       "      <th>2</th>\n",
       "      <td>2022-01-01 02:00:00</td>\n",
       "      <td>13550</td>\n",
       "      <td>55</td>\n",
       "      <td>14</td>\n",
       "      <td>182</td>\n",
       "      <td>12</td>\n",
       "      <td>5</td>\n",
       "      <td>12</td>\n",
       "      <td>33</td>\n",
       "      <td>37</td>\n",
       "      <td>13</td>\n",
       "      <td>26</td>\n",
       "      <td>42.131896</td>\n",
       "      <td>-84.821043</td>\n",
       "    </tr>\n",
       "    <tr>\n",
       "      <th>3</th>\n",
       "      <td>2022-01-01 03:00:00</td>\n",
       "      <td>13730</td>\n",
       "      <td>56</td>\n",
       "      <td>12</td>\n",
       "      <td>183</td>\n",
       "      <td>14</td>\n",
       "      <td>6</td>\n",
       "      <td>20</td>\n",
       "      <td>42</td>\n",
       "      <td>32</td>\n",
       "      <td>16</td>\n",
       "      <td>35</td>\n",
       "      <td>42.613375</td>\n",
       "      <td>-84.719528</td>\n",
       "    </tr>\n",
       "    <tr>\n",
       "      <th>4</th>\n",
       "      <td>2022-01-01 04:00:00</td>\n",
       "      <td>13210</td>\n",
       "      <td>58</td>\n",
       "      <td>16</td>\n",
       "      <td>185</td>\n",
       "      <td>15</td>\n",
       "      <td>9</td>\n",
       "      <td>14</td>\n",
       "      <td>33</td>\n",
       "      <td>43</td>\n",
       "      <td>1</td>\n",
       "      <td>23</td>\n",
       "      <td>42.714810</td>\n",
       "      <td>-84.436255</td>\n",
       "    </tr>\n",
       "  </tbody>\n",
       "</table>\n",
       "</div>"
      ],
      "text/plain": [
       "                  date  Monitor ID  NO2 (ppb)  NO2 (Plume AQI)  VOC (ppb)  \\\n",
       "0  2022-01-01 00:00:00       13350         54               19        172   \n",
       "1  2022-01-01 01:00:00       13450         48               11        188   \n",
       "2  2022-01-01 02:00:00       13550         55               14        182   \n",
       "3  2022-01-01 03:00:00       13730         56               12        183   \n",
       "4  2022-01-01 04:00:00       13210         58               16        185   \n",
       "\n",
       "   VOC (Plume AQI)  pm 1 (ug/m3)  pm 1 (Plume AQI)  pm 10 (ug/m3)  \\\n",
       "0               15             4                11             33   \n",
       "1               12             3                19             33   \n",
       "2               12             5                12             33   \n",
       "3               14             6                20             42   \n",
       "4               15             9                14             33   \n",
       "\n",
       "   pm 10 (Plume AQI)  pm25 (ug/m3)  pm 25 (Plume AQI)   latitude  longitude  \n",
       "0                 47            20                 30  42.379941 -83.751616  \n",
       "1                 45            17                 32  41.829074 -84.799743  \n",
       "2                 37            13                 26  42.131896 -84.821043  \n",
       "3                 32            16                 35  42.613375 -84.719528  \n",
       "4                 43             1                 23  42.714810 -84.436255  "
      ]
     },
     "execution_count": 161,
     "metadata": {},
     "output_type": "execute_result"
    }
   ],
   "source": [
    "sim3.head()"
   ]
  },
  {
   "cell_type": "code",
   "execution_count": 162,
   "id": "09dc3241-6dcd-45c8-bfa0-63235d7dda50",
   "metadata": {},
   "outputs": [
    {
     "data": {
      "text/plain": [
       "4806"
      ]
     },
     "execution_count": 162,
     "metadata": {},
     "output_type": "execute_result"
    }
   ],
   "source": [
    "len(sim3)"
   ]
  },
  {
   "cell_type": "markdown",
   "id": "be7efa60-113b-4496-9b13-2a4caab50775",
   "metadata": {},
   "source": [
    "* Create CSV"
   ]
  },
  {
   "cell_type": "code",
   "execution_count": 172,
   "id": "60140ef7-6d68-438e-bbf8-22f26b09c49f",
   "metadata": {},
   "outputs": [],
   "source": [
    "from pathlib import Path  \n",
    "filepath = Path('revised_sim.csv')  \n",
    "filepath.parent.mkdir(parents=True, exist_ok=True)  \n",
    "sim3.to_csv(filepath, index=False)  "
   ]
  },
  {
   "cell_type": "code",
   "execution_count": 174,
   "id": "754a0322-4ef0-45b3-a48c-ff5c74263198",
   "metadata": {},
   "outputs": [
    {
     "data": {
      "text/html": [
       "<div>\n",
       "<style scoped>\n",
       "    .dataframe tbody tr th:only-of-type {\n",
       "        vertical-align: middle;\n",
       "    }\n",
       "\n",
       "    .dataframe tbody tr th {\n",
       "        vertical-align: top;\n",
       "    }\n",
       "\n",
       "    .dataframe thead th {\n",
       "        text-align: right;\n",
       "    }\n",
       "</style>\n",
       "<table border=\"1\" class=\"dataframe\">\n",
       "  <thead>\n",
       "    <tr style=\"text-align: right;\">\n",
       "      <th></th>\n",
       "      <th>date</th>\n",
       "      <th>Monitor ID</th>\n",
       "      <th>NO2 (ppb)</th>\n",
       "      <th>NO2 (Plume AQI)</th>\n",
       "      <th>VOC (ppb)</th>\n",
       "      <th>VOC (Plume AQI)</th>\n",
       "      <th>pm 1 (ug/m3)</th>\n",
       "      <th>pm 1 (Plume AQI)</th>\n",
       "      <th>pm 10 (ug/m3)</th>\n",
       "      <th>pm 10 (Plume AQI)</th>\n",
       "      <th>pm25 (ug/m3)</th>\n",
       "      <th>pm 25 (Plume AQI)</th>\n",
       "      <th>latitude</th>\n",
       "      <th>longitude</th>\n",
       "    </tr>\n",
       "  </thead>\n",
       "  <tbody>\n",
       "    <tr>\n",
       "      <th>0</th>\n",
       "      <td>2022-01-01 00:00:00</td>\n",
       "      <td>13350</td>\n",
       "      <td>54</td>\n",
       "      <td>19</td>\n",
       "      <td>172</td>\n",
       "      <td>15</td>\n",
       "      <td>4</td>\n",
       "      <td>11</td>\n",
       "      <td>33</td>\n",
       "      <td>47</td>\n",
       "      <td>20</td>\n",
       "      <td>30</td>\n",
       "      <td>42.379941</td>\n",
       "      <td>-83.751616</td>\n",
       "    </tr>\n",
       "    <tr>\n",
       "      <th>1</th>\n",
       "      <td>2022-01-01 01:00:00</td>\n",
       "      <td>13450</td>\n",
       "      <td>48</td>\n",
       "      <td>11</td>\n",
       "      <td>188</td>\n",
       "      <td>12</td>\n",
       "      <td>3</td>\n",
       "      <td>19</td>\n",
       "      <td>33</td>\n",
       "      <td>45</td>\n",
       "      <td>17</td>\n",
       "      <td>32</td>\n",
       "      <td>41.829074</td>\n",
       "      <td>-84.799743</td>\n",
       "    </tr>\n",
       "    <tr>\n",
       "      <th>2</th>\n",
       "      <td>2022-01-01 02:00:00</td>\n",
       "      <td>13550</td>\n",
       "      <td>55</td>\n",
       "      <td>14</td>\n",
       "      <td>182</td>\n",
       "      <td>12</td>\n",
       "      <td>5</td>\n",
       "      <td>12</td>\n",
       "      <td>33</td>\n",
       "      <td>37</td>\n",
       "      <td>13</td>\n",
       "      <td>26</td>\n",
       "      <td>42.131896</td>\n",
       "      <td>-84.821043</td>\n",
       "    </tr>\n",
       "    <tr>\n",
       "      <th>3</th>\n",
       "      <td>2022-01-01 03:00:00</td>\n",
       "      <td>13730</td>\n",
       "      <td>56</td>\n",
       "      <td>12</td>\n",
       "      <td>183</td>\n",
       "      <td>14</td>\n",
       "      <td>6</td>\n",
       "      <td>20</td>\n",
       "      <td>42</td>\n",
       "      <td>32</td>\n",
       "      <td>16</td>\n",
       "      <td>35</td>\n",
       "      <td>42.613375</td>\n",
       "      <td>-84.719528</td>\n",
       "    </tr>\n",
       "    <tr>\n",
       "      <th>4</th>\n",
       "      <td>2022-01-01 04:00:00</td>\n",
       "      <td>13210</td>\n",
       "      <td>58</td>\n",
       "      <td>16</td>\n",
       "      <td>185</td>\n",
       "      <td>15</td>\n",
       "      <td>9</td>\n",
       "      <td>14</td>\n",
       "      <td>33</td>\n",
       "      <td>43</td>\n",
       "      <td>1</td>\n",
       "      <td>23</td>\n",
       "      <td>42.714810</td>\n",
       "      <td>-84.436255</td>\n",
       "    </tr>\n",
       "  </tbody>\n",
       "</table>\n",
       "</div>"
      ],
      "text/plain": [
       "                  date  Monitor ID  NO2 (ppb)  NO2 (Plume AQI)  VOC (ppb)  \\\n",
       "0  2022-01-01 00:00:00       13350         54               19        172   \n",
       "1  2022-01-01 01:00:00       13450         48               11        188   \n",
       "2  2022-01-01 02:00:00       13550         55               14        182   \n",
       "3  2022-01-01 03:00:00       13730         56               12        183   \n",
       "4  2022-01-01 04:00:00       13210         58               16        185   \n",
       "\n",
       "   VOC (Plume AQI)  pm 1 (ug/m3)  pm 1 (Plume AQI)  pm 10 (ug/m3)  \\\n",
       "0               15             4                11             33   \n",
       "1               12             3                19             33   \n",
       "2               12             5                12             33   \n",
       "3               14             6                20             42   \n",
       "4               15             9                14             33   \n",
       "\n",
       "   pm 10 (Plume AQI)  pm25 (ug/m3)  pm 25 (Plume AQI)   latitude  longitude  \n",
       "0                 47            20                 30  42.379941 -83.751616  \n",
       "1                 45            17                 32  41.829074 -84.799743  \n",
       "2                 37            13                 26  42.131896 -84.821043  \n",
       "3                 32            16                 35  42.613375 -84.719528  \n",
       "4                 43             1                 23  42.714810 -84.436255  "
      ]
     },
     "execution_count": 174,
     "metadata": {},
     "output_type": "execute_result"
    }
   ],
   "source": [
    "df = pd.read_csv('revised_sim.csv')\n",
    "df.head()"
   ]
  },
  {
   "cell_type": "code",
   "execution_count": null,
   "id": "6db62a58-357b-449d-a68b-5df714337b12",
   "metadata": {},
   "outputs": [],
   "source": []
  }
 ],
 "metadata": {
  "kernelspec": {
   "display_name": "Python 3 (ipykernel)",
   "language": "python",
   "name": "python3"
  },
  "language_info": {
   "codemirror_mode": {
    "name": "ipython",
    "version": 3
   },
   "file_extension": ".py",
   "mimetype": "text/x-python",
   "name": "python",
   "nbconvert_exporter": "python",
   "pygments_lexer": "ipython3",
   "version": "3.8.12"
  }
 },
 "nbformat": 4,
 "nbformat_minor": 5
}
