{
 "cells": [
  {
   "cell_type": "markdown",
   "metadata": {},
   "source": [
    "<h2> EHRA Dashboard </h2>"
   ]
  },
  {
   "cell_type": "markdown",
   "metadata": {},
   "source": [
    "First we have to generate simulated data to fill the scattermap. We'll store it in the dataframe <code>airQual</code>"
   ]
  },
  {
   "cell_type": "code",
   "execution_count": null,
   "metadata": {},
   "outputs": [],
   "source": [
    "## Use code from Annie\n",
    "\n",
    "# Sanity check for valid data structure \n",
    "# airQual.head()"
   ]
  },
  {
   "cell_type": "markdown",
   "metadata": {},
   "source": [
    "Before getting the plot to show, need to sign up for mapbox account to get mapbox token: https://account.mapbox.com/"
   ]
  },
  {
   "cell_type": "code",
   "execution_count": 1,
   "metadata": {},
   "outputs": [
    {
     "data": {
      "text/plain": [
       "'\\ndf = px.data.carshare()\\nfig = px.scatter_mapbox(df, lat=\"centroid_lat\", lon=\"centroid_lon\", color=\"peak_hour\", size=\"car_hours\",\\n                  color_continuous_scale=px.colors.cyclical.IceFire, size_max=15, zoom=10,  width=700, height=800)\\nfig.show()\\ndf.head()\\n'"
      ]
     },
     "execution_count": 1,
     "metadata": {},
     "output_type": "execute_result"
    }
   ],
   "source": [
    "import plotly.express as px\n",
    "px.set_mapbox_access_token('pk.eyJ1IjoiZmN4LWtpbGlnIiwiYSI6ImNsMHIwaG5rODJmY2QzYnM1NW1rcHRjOHMifQ.1kdhIW8dwvtyNDFHOCyx5g')\n",
    "'''\n",
    "df = px.data.carshare()\n",
    "fig = px.scatter_mapbox(df, lat=\"centroid_lat\", lon=\"centroid_lon\", color=\"peak_hour\", size=\"car_hours\",\n",
    "                  color_continuous_scale=px.colors.cyclical.IceFire, size_max=15, zoom=10,  width=700, height=800)\n",
    "fig.show()\n",
    "df.head()\n",
    "'''"
   ]
  },
  {
   "cell_type": "markdown",
   "metadata": {},
   "source": [
    "If we wanted to just export this interactive plotly figure at this point as an html file, we can simply use the following snippet of code:"
   ]
  },
  {
   "cell_type": "code",
   "execution_count": 2,
   "metadata": {},
   "outputs": [],
   "source": [
    "## fig.write_html(\"testing.html\")\n",
    "from jupyter_dash import JupyterDash\n",
    "from dash import Dash, html, dcc, Input, Output\n",
    "import dash_bootstrap_components as dbc\n",
    "import pandas as pd\n",
    "import os\n",
    "import base64"
   ]
  },
  {
   "cell_type": "markdown",
   "metadata": {},
   "source": [
    "<h3> Using Dash </h3>\n",
    "\n",
    "Here we're relying on JupyterDash to view the dashboard within our Jupyter notebook. Here I'm only implementing the layout without any of the callback functionality so that we have framework to build the visualization.\n",
    "\n",
    "We'll still need to figure out a way to make the map full size and figure out what kind of filtering functionality we might want. Later we'll need focus on customizing the actual visuals."
   ]
  },
  {
   "cell_type": "markdown",
   "metadata": {},
   "source": [
    "Deleting app configuration is a weird fix for JupyterDash update that makes some parts of it no longer completely compatible with Dash. We Run with  <code>  mode = \"inline\" </code> so we can view the dashboard within the Jupyter notebook itself."
   ]
  },
  {
   "cell_type": "code",
   "execution_count": null,
   "metadata": {},
   "outputs": [],
   "source": [
    "#del app.config._read_only[\"requests_pathname_prefix\"]\n",
    "#app.run_server(mode=\"inline\")\n",
    "\n",
    "# Run following code in the terminal to generate requirements.txt\n",
    "#jupyter nbconvert --output-dir=\"./reqs\" --to script EHRA_Dashboard.ipynb\n",
    "#cd reqs\n",
    "#pipreqs"
   ]
  },
  {
   "cell_type": "code",
   "execution_count": null,
   "metadata": {},
   "outputs": [],
   "source": []
  },
  {
   "cell_type": "code",
   "execution_count": 3,
   "metadata": {},
   "outputs": [],
   "source": [
    "import requests\n",
    "from contextlib import closing\n",
    "import csv\n",
    "\n",
    "sim_url=\"https://raw.githubusercontent.com/KiLiG-fcx/design-clinic/main/revised_sim.csv\"\n",
    "\n",
    "'''\n",
    "A simulation for hotspot\n",
    "If there are already hotspot information in the given dataset, this part can be neglected\n",
    "Create some hotspots based on the simulation data, and collect the information in the 'dropdown' list\n",
    "'''\n",
    "\n",
    "dropdown=[[],[],[],[]]\n",
    "with closing(requests.get(sim_url, stream=True)) as r:\n",
    "    f = (line.decode('utf-8') for line in r.iter_lines())\n",
    "    reader = csv.reader(f, delimiter=',', quotechar='\"')\n",
    "    next(reader,None)\n",
    "    for row in reader:\n",
    "        for i in range(2,12):\n",
    "            row[i]=int(row[i])\n",
    "        row[-1]=float(row[-1])\n",
    "        row[-2]=float(row[-2])\n",
    "        monitorid=int(row[1])\n",
    "        if (monitorid<13250):\n",
    "            dropdown[0].append(row)\n",
    "        elif (13250<=monitorid<13500):\n",
    "            dropdown[1].append(row)\n",
    "        elif (13500<=monitorid<13750):\n",
    "            dropdown[2].append(row)\n",
    "        else:\n",
    "            dropdown[3].append(row)"
   ]
  },
  {
   "cell_type": "code",
   "execution_count": 4,
   "metadata": {},
   "outputs": [],
   "source": [
    "def readcols(url):\n",
    "    df=pd.read_csv(url)\n",
    "    fields=[] # fields used for all dropdown choices\n",
    "    for col in df.columns:\n",
    "        fields.append(col)\n",
    "    return (fields)"
   ]
  },
  {
   "cell_type": "code",
   "execution_count": 9,
   "metadata": {},
   "outputs": [],
   "source": [
    "import statistics\n",
    "def hotspotcsv(hotspot):\n",
    "    '''\n",
    "        hotspot: int\n",
    "        number chosen by dropdown (in simulated data: 1-4)\n",
    "        create new csv to generate a new range of latitude, longitude\n",
    "    '''\n",
    "    fields=readcols(sim_url)\n",
    "    rows_data=dropdown[hotspot-1] # the list of data that will be used to create the csv\n",
    "    df=pd.DataFrame(rows_data,columns=fields)\n",
    "    #print(type(df['latitude'][1]))\n",
    "    return df"
   ]
  },
  {
   "cell_type": "code",
   "execution_count": 17,
   "metadata": {},
   "outputs": [],
   "source": [
    "def hotspot_plot(hotspot):\n",
    "    df = hotspotcsv(hotspot)\n",
    "    hotspot_fig = px.scatter_mapbox(df, lat=\"latitude\", lon=\"longitude\", color=\"NO2 (ppb)\",\n",
    "                        center={'lat':statistics.median(df['latitude']),'lon':statistics.median(df['longitude'])},\n",
    "                                    # center is used to change the map center position\n",
    "                      color_continuous_scale=px.colors.cyclical.IceFire, zoom=10, width=900, height=800)\n",
    "    #hotspot_fig.show()\n",
    "    return hotspot_fig"
   ]
  },
  {
   "cell_type": "code",
   "execution_count": 19,
   "metadata": {},
   "outputs": [
    {
     "name": "stdout",
     "output_type": "stream",
     "text": [
      "Dash app running on http://127.0.0.1:8050/\n"
     ]
    }
   ],
   "source": [
    "app = JupyterDash(external_stylesheets=[dbc.themes.BOOTSTRAP])\n",
    "\n",
    "logo = os.getcwd() + '/assets/EHRA_logo.jpeg'\n",
    "encoded_image = base64.b64encode(open(logo, 'rb').read())\n",
    "\n",
    "SIDEBAR_STYLE = {\n",
    "    \"position\": \"fixed\",\n",
    "    \"top\": 0,\n",
    "    \"left\": 0,\n",
    "    \"bottom\": 0,\n",
    "    \"width\": \"16rem\",\n",
    "    \"padding\": \"1rem 1rem\",\n",
    "    \"background-color\": \"#f8f9fa\",\n",
    "}\n",
    "\n",
    "FIGURE_STYLE = {\n",
    "    \"position\": \"fixed\",\n",
    "    \"top\": 0,\n",
    "    \"left\": 0,\n",
    "    \"bottom\": 0,\n",
    "    \"margin-left\": \"16rem\",\n",
    "    \"margin-right\": \"1rem\"\n",
    "}\n",
    "\n",
    "NEWS_STYLE = {\n",
    "    \"position\": \"fixed\",\n",
    "    \"top\": \"0rem\",\n",
    "    \"padding-top\": \"3rem\",\n",
    "    \"padding-left\": \"1rem\",\n",
    "    \"left\": 0,\n",
    "    \"bottom\": 0,\n",
    "    \"margin-left\": \"61rem\",\n",
    "    \"margin-right\": \"1rem\",\n",
    "    \"width\": \"40rem\",\n",
    "    \"background-color\": \"#f8f9fa\",\n",
    "}\n",
    "\n",
    "sidebar = html.Div(\n",
    "    [\n",
    "        html.Img(src='data:image/png;base64,{}'.format(encoded_image.decode()), style={'width': '220px'}),\n",
    "        html.H4('Pollutant'),\n",
    "        dcc.RadioItems(id = 'radio-item-1',\n",
    "                        options = [dict(label = 'NO2', value = 'A'),\n",
    "                                    dict(label = 'VOC', value = 'B'),\n",
    "                                    dict(label = 'pm1', value = 'C'),\n",
    "                                    dict(label = 'pm10', value = 'D'),\n",
    "                                    dict(label = 'pm25', value = 'E')],\n",
    "                        value = 'A',\n",
    "                        labelStyle={'display': 'block'}),\n",
    "\n",
    "        html.P(['Abbreviations', html.Br(),\\\n",
    "            'PM: Particulate Matter', html.Br(),\\\n",
    "            'NO2: Nitrogen Dioxide', html.Br(),\\\n",
    "                'VOC: Volatine Organic Compound', html.Br(),\\\n",
    "                    'PM10: PM<10um diameter', html.Br(),\\\n",
    "                        'PM25: PM<2.5um diameter']),\n",
    "       \n",
    "        html.H4(['Select hotspot:']),\n",
    "\n",
    "        dcc.Dropdown(\n",
    "            ['Elementary School', 'Factory', 'Middle School', 'Park'],\n",
    "            'Select hotspots',\n",
    "            id='hotspot-dropdown'\n",
    "        ),\n",
    "        html.P('These hotspots were selected based on the air quality pollutant data released to the government.'),\n",
    "        dbc.Button(\"Upload my Flow Monitor Data\", color=\"primary\", className=\"me-1\", \n",
    "        href='https://docs.google.com/forms/d/e/1FAIpQLSeO__LGt9egJ8AEhVXB5YlO5YOEwjl9NYudUqe7H_MyvJ-MGQ/viewform?usp=pp_url', target='_blank'),\n",
    "    ],\n",
    "    style=SIDEBAR_STYLE,\n",
    ")\n",
    "\n",
    "content = html.Div(dcc.Graph(id = 'main-graph'), style = FIGURE_STYLE)\n",
    "news = html.Div(html.H4('Related News & Information'), style = NEWS_STYLE)\n",
    "app.layout = html.Div([sidebar, content, news])\n",
    "\n",
    "@app.callback(\n",
    "    Output('main-graph', 'figure'),\n",
    "    Input('hotspot-dropdown','value'))\n",
    "\n",
    "def update_figure(hotspotid):\n",
    "    if (hotspotid=='Elementary School'):\n",
    "        return hotspot_plot(1)\n",
    "    elif (hotspotid==\"Factory\"):\n",
    "        return hotspot_plot(2)\n",
    "    elif (hotspotid==\"Middle School\"):\n",
    "        return hotspot_plot(3)\n",
    "    elif (hotspotid==\"Park\"):\n",
    "        return hotspot_plot(4)\n",
    "    return hotspot_plot(1)\n",
    "\n",
    "\n",
    "## Deploy app -------------------------------------------------------------\n",
    "del app.config._read_only[\"requests_pathname_prefix\"]\n",
    "app.run_server(debug=True)"
   ]
  }
 ],
 "metadata": {
  "interpreter": {
   "hash": "7ea124d6509c82d273728337295af56835809cfb8d3edfb3e806559a2c623f23"
  },
  "kernelspec": {
   "display_name": "Python 3 (ipykernel)",
   "language": "python",
   "name": "python3"
  },
  "language_info": {
   "codemirror_mode": {
    "name": "ipython",
    "version": 3
   },
   "file_extension": ".py",
   "mimetype": "text/x-python",
   "name": "python",
   "nbconvert_exporter": "python",
   "pygments_lexer": "ipython3",
   "version": "3.9.7"
  }
 },
 "nbformat": 4,
 "nbformat_minor": 2
}
