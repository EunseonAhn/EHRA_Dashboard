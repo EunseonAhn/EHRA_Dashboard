{
 "cells": [
  {
   "cell_type": "code",
   "execution_count": 1,
   "metadata": {},
   "outputs": [],
   "source": [
    "import numpy as np\n",
    "import pandas as pd"
   ]
  },
  {
   "cell_type": "code",
   "execution_count": 2,
   "metadata": {},
   "outputs": [
    {
     "data": {
      "text/html": [
       "<div>\n",
       "<style scoped>\n",
       "    .dataframe tbody tr th:only-of-type {\n",
       "        vertical-align: middle;\n",
       "    }\n",
       "\n",
       "    .dataframe tbody tr th {\n",
       "        vertical-align: top;\n",
       "    }\n",
       "\n",
       "    .dataframe thead th {\n",
       "        text-align: right;\n",
       "    }\n",
       "</style>\n",
       "<table border=\"1\" class=\"dataframe\">\n",
       "  <thead>\n",
       "    <tr style=\"text-align: right;\">\n",
       "      <th></th>\n",
       "      <th>date</th>\n",
       "      <th>Monitor ID</th>\n",
       "      <th>NO2 (ppb)</th>\n",
       "      <th>NO2 (Plume AQI)</th>\n",
       "      <th>VOC (ppb)</th>\n",
       "      <th>VOC (Plume AQI)</th>\n",
       "      <th>pm 1 (ug/m3)</th>\n",
       "      <th>pm 1 (Plume AQI)</th>\n",
       "      <th>pm 10 (ug/m3)</th>\n",
       "      <th>pm 10 (Plume AQI)</th>\n",
       "      <th>pm25 (ug/m3)</th>\n",
       "      <th>pm 25 (Plume AQI)</th>\n",
       "      <th>latitude</th>\n",
       "      <th>longitude</th>\n",
       "    </tr>\n",
       "  </thead>\n",
       "  <tbody>\n",
       "    <tr>\n",
       "      <th>0</th>\n",
       "      <td>2021-08-16 01:01:26</td>\n",
       "      <td>14590</td>\n",
       "      <td>0</td>\n",
       "      <td>0</td>\n",
       "      <td>94</td>\n",
       "      <td>8</td>\n",
       "      <td>59</td>\n",
       "      <td>32</td>\n",
       "      <td>130</td>\n",
       "      <td>132</td>\n",
       "      <td>87</td>\n",
       "      <td>137</td>\n",
       "      <td>NaN</td>\n",
       "      <td>NaN</td>\n",
       "    </tr>\n",
       "    <tr>\n",
       "      <th>1</th>\n",
       "      <td>2021-08-16 01:02:26</td>\n",
       "      <td>14590</td>\n",
       "      <td>0</td>\n",
       "      <td>0</td>\n",
       "      <td>85</td>\n",
       "      <td>7</td>\n",
       "      <td>55</td>\n",
       "      <td>29</td>\n",
       "      <td>121</td>\n",
       "      <td>126</td>\n",
       "      <td>83</td>\n",
       "      <td>133</td>\n",
       "      <td>NaN</td>\n",
       "      <td>NaN</td>\n",
       "    </tr>\n",
       "    <tr>\n",
       "      <th>2</th>\n",
       "      <td>2021-08-16 01:03:26</td>\n",
       "      <td>14590</td>\n",
       "      <td>0</td>\n",
       "      <td>0</td>\n",
       "      <td>82</td>\n",
       "      <td>7</td>\n",
       "      <td>56</td>\n",
       "      <td>30</td>\n",
       "      <td>125</td>\n",
       "      <td>128</td>\n",
       "      <td>84</td>\n",
       "      <td>134</td>\n",
       "      <td>NaN</td>\n",
       "      <td>NaN</td>\n",
       "    </tr>\n",
       "    <tr>\n",
       "      <th>3</th>\n",
       "      <td>2021-08-16 01:04:26</td>\n",
       "      <td>14590</td>\n",
       "      <td>0</td>\n",
       "      <td>0</td>\n",
       "      <td>78</td>\n",
       "      <td>6</td>\n",
       "      <td>64</td>\n",
       "      <td>36</td>\n",
       "      <td>132</td>\n",
       "      <td>133</td>\n",
       "      <td>90</td>\n",
       "      <td>140</td>\n",
       "      <td>NaN</td>\n",
       "      <td>NaN</td>\n",
       "    </tr>\n",
       "    <tr>\n",
       "      <th>4</th>\n",
       "      <td>2021-08-16 01:05:26</td>\n",
       "      <td>14590</td>\n",
       "      <td>0</td>\n",
       "      <td>0</td>\n",
       "      <td>77</td>\n",
       "      <td>6</td>\n",
       "      <td>54</td>\n",
       "      <td>29</td>\n",
       "      <td>124</td>\n",
       "      <td>128</td>\n",
       "      <td>82</td>\n",
       "      <td>132</td>\n",
       "      <td>NaN</td>\n",
       "      <td>NaN</td>\n",
       "    </tr>\n",
       "  </tbody>\n",
       "</table>\n",
       "</div>"
      ],
      "text/plain": [
       "                 date  Monitor ID  NO2 (ppb)  NO2 (Plume AQI)  VOC (ppb)  \\\n",
       "0 2021-08-16 01:01:26       14590          0                0         94   \n",
       "1 2021-08-16 01:02:26       14590          0                0         85   \n",
       "2 2021-08-16 01:03:26       14590          0                0         82   \n",
       "3 2021-08-16 01:04:26       14590          0                0         78   \n",
       "4 2021-08-16 01:05:26       14590          0                0         77   \n",
       "\n",
       "   VOC (Plume AQI)  pm 1 (ug/m3)  pm 1 (Plume AQI)  pm 10 (ug/m3)  \\\n",
       "0                8            59                32            130   \n",
       "1                7            55                29            121   \n",
       "2                7            56                30            125   \n",
       "3                6            64                36            132   \n",
       "4                6            54                29            124   \n",
       "\n",
       "   pm 10 (Plume AQI)  pm25 (ug/m3)  pm 25 (Plume AQI)  latitude  longitude  \n",
       "0                132            87                137       NaN        NaN  \n",
       "1                126            83                133       NaN        NaN  \n",
       "2                128            84                134       NaN        NaN  \n",
       "3                133            90                140       NaN        NaN  \n",
       "4                128            82                132       NaN        NaN  "
      ]
     },
     "execution_count": 2,
     "metadata": {},
     "output_type": "execute_result"
    }
   ],
   "source": [
    "Flow = pd.read_excel('August_Flow.xlsx') \n",
    "Flow.head()"
   ]
  },
  {
   "cell_type": "code",
   "execution_count": 3,
   "metadata": {},
   "outputs": [
    {
     "name": "stdout",
     "output_type": "stream",
     "text": [
      "[[12396 24076]\n",
      " [13227  3149]\n",
      " [14128  8657]\n",
      " [14529  4925]\n",
      " [14590  4865]]\n"
     ]
    }
   ],
   "source": [
    "(unique, counts) = np.unique(Flow['Monitor ID'], return_counts=True)\n",
    "frequencies = np.asarray((unique, counts)).T\n",
    "\n",
    "print(frequencies)"
   ]
  },
  {
   "cell_type": "markdown",
   "metadata": {},
   "source": [
    "Seems like there are 5 different monitors out in the field."
   ]
  },
  {
   "cell_type": "code",
   "execution_count": 4,
   "metadata": {},
   "outputs": [
    {
     "data": {
      "text/plain": [
       "(array([1369., 3435., 5764., 9805., 8849., 2860., 4765., 2960., 2048.,\n",
       "        3817.]),\n",
       " array([18849.5158912 , 18851.58095255, 18853.64601389, 18855.71107523,\n",
       "        18857.77613657, 18859.84119792, 18861.90625926, 18863.9713206 ,\n",
       "        18866.03638194, 18868.10144329, 18870.16650463]),\n",
       " <BarContainer object of 10 artists>)"
      ]
     },
     "execution_count": 4,
     "metadata": {},
     "output_type": "execute_result"
    },
    {
     "data": {
      "image/png": "[encoded data removed]",
      "text/plain": [
       "<Figure size 432x288 with 1 Axes>"
      ]
     },
     "metadata": {
      "needs_background": "light"
     },
     "output_type": "display_data"
    }
   ],
   "source": [
    "import matplotlib.pyplot as plt\n",
    "\n",
    "ax = plt.gca()\n",
    "ax.hist(Flow['date'])\n"
   ]
  },
  {
   "cell_type": "markdown",
   "metadata": {},
   "source": [
    "The data is collected over a course of about 20 days. The monitor takes air quality measurements every minute.\n",
    "Next, trying to see how frequently each monitor was used:"
   ]
  },
  {
   "cell_type": "code",
   "execution_count": 5,
   "metadata": {},
   "outputs": [
    {
     "data": {
      "image/png": "[encoded data removed]",
      "text/plain": [
       "<Figure size 432x288 with 1 Axes>"
      ]
     },
     "metadata": {
      "needs_background": "light"
     },
     "output_type": "display_data"
    },
    {
     "data": {
      "image/png": "[encoded data removed]",
      "text/plain": [
       "<Figure size 432x288 with 1 Axes>"
      ]
     },
     "metadata": {
      "needs_background": "light"
     },
     "output_type": "display_data"
    },
    {
     "data": {
      "image/png": "[encoded data removed]",
      "text/plain": [
       "<Figure size 432x288 with 1 Axes>"
      ]
     },
     "metadata": {
      "needs_background": "light"
     },
     "output_type": "display_data"
    },
    {
     "data": {
      "image/png": "[encoded data removed]",
      "text/plain": [
       "<Figure size 432x288 with 1 Axes>"
      ]
     },
     "metadata": {
      "needs_background": "light"
     },
     "output_type": "display_data"
    },
    {
     "data": {
      "image/png": "[encoded data removed]",
      "text/plain": [
       "<Figure size 432x288 with 1 Axes>"
      ]
     },
     "metadata": {
      "needs_background": "light"
     },
     "output_type": "display_data"
    }
   ],
   "source": [
    "for x in range(5):\n",
    "    plt.figure()\n",
    "    ax = plt.gca()\n",
    "    ax.hist(Flow.loc[Flow['Monitor ID'] == unique[x]]['date'])"
   ]
  },
  {
   "cell_type": "markdown",
   "metadata": {},
   "source": [
    "Now let's see the geographical distribution and see if any particular monitor is responsible for vast majority of missing latitude and longitude. "
   ]
  },
  {
   "cell_type": "code",
   "execution_count": 6,
   "metadata": {},
   "outputs": [
    {
     "data": {
      "text/plain": [
       "(array([12396]), array([20309]))"
      ]
     },
     "execution_count": 6,
     "metadata": {},
     "output_type": "execute_result"
    }
   ],
   "source": [
    "np.unique(Flow.loc[~np.isnan(Flow['latitude'])]['Monitor ID'], return_counts=True)\n"
   ]
  },
  {
   "cell_type": "markdown",
   "metadata": {},
   "source": [
    "Only Monitor 12396 collected geogrpahical data and not always. 24076 - 20309 measures from this monitor is missing spatial coordinates"
   ]
  },
  {
   "cell_type": "code",
   "execution_count": 7,
   "metadata": {},
   "outputs": [
    {
     "name": "stdout",
     "output_type": "stream",
     "text": [
      "42.384018\n",
      "42.30135\n",
      "-83.1055459999999\n",
      "-83.198265\n"
     ]
    }
   ],
   "source": [
    "print(max(Flow.loc[~np.isnan(Flow['latitude'])]['latitude']))\n",
    "print(min(Flow.loc[~np.isnan(Flow['latitude'])]['latitude']))\n",
    "\n",
    "print(max(Flow.loc[~np.isnan(Flow['latitude'])]['longitude']))\n",
    "print(min(Flow.loc[~np.isnan(Flow['latitude'])]['longitude']))\n"
   ]
  },
  {
   "cell_type": "code",
   "execution_count": null,
   "metadata": {},
   "outputs": [],
   "source": []
  }
 ],
 "metadata": {
  "interpreter": {
   "hash": "aee8b7b246df8f9039afb4144a1f6fd8d2ca17a180786b69acc140d282b71a49"
  },
  "kernelspec": {
   "display_name": "Python 3 (ipykernel)",
   "language": "python",
   "name": "python3"
  },
  "language_info": {
   "codemirror_mode": {
    "name": "ipython",
    "version": 3
   },
   "file_extension": ".py",
   "mimetype": "text/x-python",
   "name": "python",
   "nbconvert_exporter": "python",
   "pygments_lexer": "ipython3",
   "version": "3.8.12"
  }
 },
 "nbformat": 4,
 "nbformat_minor": 4
}
